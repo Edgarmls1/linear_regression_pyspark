{
 "cells": [
  {
   "cell_type": "code",
   "execution_count": 91,
   "metadata": {},
   "outputs": [],
   "source": [
    "import pandas as pd\n",
    "import seaborn as sns\n",
    "import matplotlib.pyplot as plt\n",
    "\n",
    "from pyspark.sql import SparkSession\n",
    "from pyspark.sql import functions as f\n",
    "from pyspark.sql.types import IntegerType, DoubleType\n",
    "\n",
    "from pyspark.ml.stat import Correlation\n",
    "from pyspark.ml.feature import VectorAssembler\n",
    "from pyspark.ml.evaluation import RegressionEvaluator\n",
    "from pyspark.ml.tuning import CrossValidator, ParamGridBuilder\n",
    "from pyspark.ml.regression import LinearRegression, DecisionTreeRegressor,RandomForestRegressor"
   ]
  },
  {
   "cell_type": "code",
   "execution_count": 2,
   "metadata": {},
   "outputs": [
    {
     "name": "stderr",
     "output_type": "stream",
     "text": [
      "24/11/23 18:23:51 WARN Utils: Your hostname, big resolves to a loopback address: 127.0.1.1; using 192.168.0.81 instead (on interface wlo1)\n",
      "24/11/23 18:23:51 WARN Utils: Set SPARK_LOCAL_IP if you need to bind to another address\n",
      "Setting default log level to \"WARN\".\n",
      "To adjust logging level use sc.setLogLevel(newLevel). For SparkR, use setLogLevel(newLevel).\n",
      "24/11/23 18:23:51 WARN NativeCodeLoader: Unable to load native-hadoop library for your platform... using builtin-java classes where applicable\n"
     ]
    },
    {
     "data": {
      "text/html": [
       "\n",
       "            <div>\n",
       "                <p><b>SparkSession - in-memory</b></p>\n",
       "                \n",
       "        <div>\n",
       "            <p><b>SparkContext</b></p>\n",
       "\n",
       "            <p><a href=\"http://192.168.0.81:4040\">Spark UI</a></p>\n",
       "\n",
       "            <dl>\n",
       "              <dt>Version</dt>\n",
       "                <dd><code>v3.5.3</code></dd>\n",
       "              <dt>Master</dt>\n",
       "                <dd><code>local[*]</code></dd>\n",
       "              <dt>AppName</dt>\n",
       "                <dd><code>Regressao com Spark</code></dd>\n",
       "            </dl>\n",
       "        </div>\n",
       "        \n",
       "            </div>\n",
       "        "
      ],
      "text/plain": [
       "<pyspark.sql.session.SparkSession at 0x7ff3134d7d70>"
      ]
     },
     "execution_count": 2,
     "metadata": {},
     "output_type": "execute_result"
    }
   ],
   "source": [
    "spark = SparkSession.builder\\\n",
    "        .master('local[*]')\\\n",
    "        .appName('Regressao com Spark')\\\n",
    "        .getOrCreate()\n",
    "\n",
    "spark"
   ]
  },
  {
   "cell_type": "markdown",
   "metadata": {},
   "source": [
    "# carregando dados"
   ]
  },
  {
   "cell_type": "code",
   "execution_count": 3,
   "metadata": {},
   "outputs": [
    {
     "name": "stderr",
     "output_type": "stream",
     "text": [
      "                                                                                \r"
     ]
    }
   ],
   "source": [
    "dados = spark.read.json('imoveis.json')"
   ]
  },
  {
   "cell_type": "code",
   "execution_count": 4,
   "metadata": {},
   "outputs": [
    {
     "name": "stderr",
     "output_type": "stream",
     "text": [
      "[Stage 1:>                                                          (0 + 1) / 1]\r"
     ]
    },
    {
     "name": "stdout",
     "output_type": "stream",
     "text": [
      "+--------------------------+-----------------------------------------------------------------------------------------------------------------------------------------------------------------+\n",
      "|ident                     |listing                                                                                                                                                          |\n",
      "+--------------------------+-----------------------------------------------------------------------------------------------------------------------------------------------------------------+\n",
      "|{775564-BOJSMVON, Website}|{{Rio de Janeiro, {-22.909429, -43.413557}, Taquara, Zona Oeste}, {0, 0, 0, 1, 0, 62, 0, 0, 62}, {45000, {150, 0}}, {Outros, Residencial}}                       |\n",
      "|{660895-AUENKNYY, Website}|{{Rio de Janeiro, {-22.869698, -43.509141}, Santíssimo, Zona Oeste}, {1, 2, 0, 1, 0, 0, 0, 0, 44}, {45000, {120, 0}}, {Apartamento, Residencial}}                |\n",
      "|{751522-JESYFEQL, Website}|{{Rio de Janeiro, {-22.986927, -43.646786}, Pedra de Guaratiba, Zona Oeste}, {0, 0, 0, 0, 0, 132, 0, 0, 132}, {50000, {100, 0}}, {Outros, Residencial}}          |\n",
      "|{714052-GAAEWYKS, Website}|{{Rio de Janeiro, {-22.881977, -43.330818}, Cascadura, Zona Norte}, {1, 0, 0, 0, 0, 32, 3, 0, 32}, {45000, {468, 346}}, {Outros, Comercial}}                     |\n",
      "|{568886-ZIBFOMCC, Website}|{{Rio de Janeiro, {-23.027653, -43.480742}, Recreio dos Bandeirantes, Zona Oeste}, {2, 3, 3, 1, 1, 0, 2, 4, 60}, {50000, {400, 120}}, {Apartamento, Residencial}}|\n",
      "+--------------------------+-----------------------------------------------------------------------------------------------------------------------------------------------------------------+\n",
      "only showing top 5 rows\n",
      "\n"
     ]
    },
    {
     "name": "stderr",
     "output_type": "stream",
     "text": [
      "                                                                                \r"
     ]
    }
   ],
   "source": [
    "dados.show(5, False)"
   ]
  },
  {
   "cell_type": "code",
   "execution_count": 5,
   "metadata": {},
   "outputs": [
    {
     "name": "stderr",
     "output_type": "stream",
     "text": [
      "                                                                                \r"
     ]
    },
    {
     "data": {
      "text/plain": [
       "73615"
      ]
     },
     "execution_count": 5,
     "metadata": {},
     "output_type": "execute_result"
    }
   ],
   "source": [
    "dados.count()"
   ]
  },
  {
   "cell_type": "markdown",
   "metadata": {},
   "source": [
    "# analisando dados"
   ]
  },
  {
   "cell_type": "code",
   "execution_count": 6,
   "metadata": {},
   "outputs": [
    {
     "name": "stdout",
     "output_type": "stream",
     "text": [
      "root\n",
      " |-- ident: struct (nullable = true)\n",
      " |    |-- customerID: string (nullable = true)\n",
      " |    |-- source: string (nullable = true)\n",
      " |-- listing: struct (nullable = true)\n",
      " |    |-- address: struct (nullable = true)\n",
      " |    |    |-- city: string (nullable = true)\n",
      " |    |    |-- location: struct (nullable = true)\n",
      " |    |    |    |-- lat: double (nullable = true)\n",
      " |    |    |    |-- lon: double (nullable = true)\n",
      " |    |    |-- neighborhood: string (nullable = true)\n",
      " |    |    |-- zone: string (nullable = true)\n",
      " |    |-- features: struct (nullable = true)\n",
      " |    |    |-- bathrooms: long (nullable = true)\n",
      " |    |    |-- bedrooms: long (nullable = true)\n",
      " |    |    |-- floors: long (nullable = true)\n",
      " |    |    |-- parkingSpaces: long (nullable = true)\n",
      " |    |    |-- suites: long (nullable = true)\n",
      " |    |    |-- totalAreas: string (nullable = true)\n",
      " |    |    |-- unitFloor: long (nullable = true)\n",
      " |    |    |-- unitsOnTheFloor: long (nullable = true)\n",
      " |    |    |-- usableAreas: string (nullable = true)\n",
      " |    |-- prices: struct (nullable = true)\n",
      " |    |    |-- price: string (nullable = true)\n",
      " |    |    |-- tax: struct (nullable = true)\n",
      " |    |    |    |-- condo: string (nullable = true)\n",
      " |    |    |    |-- iptu: string (nullable = true)\n",
      " |    |-- types: struct (nullable = true)\n",
      " |    |    |-- unit: string (nullable = true)\n",
      " |    |    |-- usage: string (nullable = true)\n",
      "\n"
     ]
    }
   ],
   "source": [
    "dados.printSchema()"
   ]
  },
  {
   "cell_type": "code",
   "execution_count": 7,
   "metadata": {},
   "outputs": [
    {
     "name": "stderr",
     "output_type": "stream",
     "text": [
      "[Stage 5:>                                                          (0 + 1) / 1]\r"
     ]
    },
    {
     "name": "stdout",
     "output_type": "stream",
     "text": [
      "+---------------+--------------------------------------------------------------------------------+-------------------------------+---------------------+--------------------------+\n",
      "|customerID     |address                                                                         |features                       |prices               |types                     |\n",
      "+---------------+--------------------------------------------------------------------------------+-------------------------------+---------------------+--------------------------+\n",
      "|775564-BOJSMVON|{Rio de Janeiro, {-22.909429, -43.413557}, Taquara, Zona Oeste}                 |{0, 0, 0, 1, 0, 62, 0, 0, 62}  |{45000, {150, 0}}    |{Outros, Residencial}     |\n",
      "|660895-AUENKNYY|{Rio de Janeiro, {-22.869698, -43.509141}, Santíssimo, Zona Oeste}              |{1, 2, 0, 1, 0, 0, 0, 0, 44}   |{45000, {120, 0}}    |{Apartamento, Residencial}|\n",
      "|751522-JESYFEQL|{Rio de Janeiro, {-22.986927, -43.646786}, Pedra de Guaratiba, Zona Oeste}      |{0, 0, 0, 0, 0, 132, 0, 0, 132}|{50000, {100, 0}}    |{Outros, Residencial}     |\n",
      "|714052-GAAEWYKS|{Rio de Janeiro, {-22.881977, -43.330818}, Cascadura, Zona Norte}               |{1, 0, 0, 0, 0, 32, 3, 0, 32}  |{45000, {468, 346}}  |{Outros, Comercial}       |\n",
      "|568886-ZIBFOMCC|{Rio de Janeiro, {-23.027653, -43.480742}, Recreio dos Bandeirantes, Zona Oeste}|{2, 3, 3, 1, 1, 0, 2, 4, 60}   |{50000, {400, 120}}  |{Apartamento, Residencial}|\n",
      "|526755-OBLTYTEN|{Rio de Janeiro, {-22.966059, -43.571183}, Guaratiba, Zona Oeste}               |{0, 0, 0, 0, 0, 200, 0, 0, 200}|{50000, {0, NULL}}   |{Outros, Residencial}     |\n",
      "|593569-CJLMNFGW|{Rio de Janeiro, {-22.939028, -43.3453}, Freguesia (Jacarepaguá), Zona Oeste}   |{1, 0, 0, 0, 0, 25, 2, 0, 25}  |{50000, {801, 211}}  |{Outros, Comercial}       |\n",
      "|989181-RYJOLMCU|{Rio de Janeiro, {-22.841509, -43.278855}, Penha, Zona Norte}                   |{1, 0, 0, 0, 0, 23, 0, 0, 23}  |{50000, {230, NULL}} |{Outros, Comercial}       |\n",
      "|145372-EZKAKSWM|{Rio de Janeiro, {-22.835609, -43.392253}, Ricardo de Albuquerque, Zona Norte}  |{0, 0, 0, 0, 0, 60, 0, 0, 60}  |{45000, {NULL, NULL}}|{Outros, Comercial}       |\n",
      "|792086-NWNQTDYL|{Rio de Janeiro, {-22.885306, -43.253044}, Jacarezinho, Zona Norte}             |{1, 1, 0, 1, 0, 35, 0, 0, 33}  |{45336, {0, 0}}      |{Apartamento, Residencial}|\n",
      "+---------------+--------------------------------------------------------------------------------+-------------------------------+---------------------+--------------------------+\n",
      "only showing top 10 rows\n",
      "\n"
     ]
    },
    {
     "name": "stderr",
     "output_type": "stream",
     "text": [
      "                                                                                \r"
     ]
    }
   ],
   "source": [
    "dados.select('ident.customerID', 'listing.*').show(10, False)"
   ]
  },
  {
   "cell_type": "code",
   "execution_count": 8,
   "metadata": {},
   "outputs": [
    {
     "name": "stderr",
     "output_type": "stream",
     "text": [
      "[Stage 6:>                                                          (0 + 1) / 1]\r"
     ]
    },
    {
     "name": "stdout",
     "output_type": "stream",
     "text": [
      "+---------------+-----------+-----------+---------+--------+------+-------------+------+----------+---------+---------------+-----------+--------------+------------------------+------------------------+----------+-----+-----+----+\n",
      "|customerID     |unit       |usage      |bathrooms|bedrooms|floors|parkingSpaces|suites|totalAreas|unitFloor|unitsOnTheFloor|usableAreas|city          |location                |neighborhood            |zone      |price|condo|iptu|\n",
      "+---------------+-----------+-----------+---------+--------+------+-------------+------+----------+---------+---------------+-----------+--------------+------------------------+------------------------+----------+-----+-----+----+\n",
      "|775564-BOJSMVON|Outros     |Residencial|0        |0       |0     |1            |0     |62        |0        |0              |62         |Rio de Janeiro|{-22.909429, -43.413557}|Taquara                 |Zona Oeste|45000|150  |0   |\n",
      "|660895-AUENKNYY|Apartamento|Residencial|1        |2       |0     |1            |0     |0         |0        |0              |44         |Rio de Janeiro|{-22.869698, -43.509141}|Santíssimo              |Zona Oeste|45000|120  |0   |\n",
      "|751522-JESYFEQL|Outros     |Residencial|0        |0       |0     |0            |0     |132       |0        |0              |132        |Rio de Janeiro|{-22.986927, -43.646786}|Pedra de Guaratiba      |Zona Oeste|50000|100  |0   |\n",
      "|714052-GAAEWYKS|Outros     |Comercial  |1        |0       |0     |0            |0     |32        |3        |0              |32         |Rio de Janeiro|{-22.881977, -43.330818}|Cascadura               |Zona Norte|45000|468  |346 |\n",
      "|568886-ZIBFOMCC|Apartamento|Residencial|2        |3       |3     |1            |1     |0         |2        |4              |60         |Rio de Janeiro|{-23.027653, -43.480742}|Recreio dos Bandeirantes|Zona Oeste|50000|400  |120 |\n",
      "|526755-OBLTYTEN|Outros     |Residencial|0        |0       |0     |0            |0     |200       |0        |0              |200        |Rio de Janeiro|{-22.966059, -43.571183}|Guaratiba               |Zona Oeste|50000|0    |NULL|\n",
      "|593569-CJLMNFGW|Outros     |Comercial  |1        |0       |0     |0            |0     |25        |2        |0              |25         |Rio de Janeiro|{-22.939028, -43.3453}  |Freguesia (Jacarepaguá) |Zona Oeste|50000|801  |211 |\n",
      "|989181-RYJOLMCU|Outros     |Comercial  |1        |0       |0     |0            |0     |23        |0        |0              |23         |Rio de Janeiro|{-22.841509, -43.278855}|Penha                   |Zona Norte|50000|230  |NULL|\n",
      "|145372-EZKAKSWM|Outros     |Comercial  |0        |0       |0     |0            |0     |60        |0        |0              |60         |Rio de Janeiro|{-22.835609, -43.392253}|Ricardo de Albuquerque  |Zona Norte|45000|NULL |NULL|\n",
      "|792086-NWNQTDYL|Apartamento|Residencial|1        |1       |0     |1            |0     |35        |0        |0              |33         |Rio de Janeiro|{-22.885306, -43.253044}|Jacarezinho             |Zona Norte|45336|0    |0   |\n",
      "+---------------+-----------+-----------+---------+--------+------+-------------+------+----------+---------+---------------+-----------+--------------+------------------------+------------------------+----------+-----+-----+----+\n",
      "only showing top 10 rows\n",
      "\n"
     ]
    },
    {
     "name": "stderr",
     "output_type": "stream",
     "text": [
      "                                                                                \r"
     ]
    }
   ],
   "source": [
    "dados\\\n",
    "    .select('ident.customerID', 'listing.types.*', 'listing.features.*', 'listing.address.*', 'listing.prices.price', 'listing.prices.tax.*')\\\n",
    "    .show(10, False)"
   ]
  },
  {
   "cell_type": "code",
   "execution_count": 9,
   "metadata": {},
   "outputs": [
    {
     "name": "stderr",
     "output_type": "stream",
     "text": [
      "[Stage 7:>                                                          (0 + 1) / 1]\r"
     ]
    },
    {
     "name": "stdout",
     "output_type": "stream",
     "text": [
      "+---------------+-----------+-----------+---------+--------+------+-------------+------+---------+---------------+-----------+------------------------+----------+-----+-----+----+\n",
      "|customerID     |unit       |usage      |bathrooms|bedrooms|floors|parkingSpaces|suites|unitFloor|unitsOnTheFloor|usableAreas|neighborhood            |zone      |price|condo|iptu|\n",
      "+---------------+-----------+-----------+---------+--------+------+-------------+------+---------+---------------+-----------+------------------------+----------+-----+-----+----+\n",
      "|775564-BOJSMVON|Outros     |Residencial|0        |0       |0     |1            |0     |0        |0              |62         |Taquara                 |Zona Oeste|45000|150  |0   |\n",
      "|660895-AUENKNYY|Apartamento|Residencial|1        |2       |0     |1            |0     |0        |0              |44         |Santíssimo              |Zona Oeste|45000|120  |0   |\n",
      "|751522-JESYFEQL|Outros     |Residencial|0        |0       |0     |0            |0     |0        |0              |132        |Pedra de Guaratiba      |Zona Oeste|50000|100  |0   |\n",
      "|714052-GAAEWYKS|Outros     |Comercial  |1        |0       |0     |0            |0     |3        |0              |32         |Cascadura               |Zona Norte|45000|468  |346 |\n",
      "|568886-ZIBFOMCC|Apartamento|Residencial|2        |3       |3     |1            |1     |2        |4              |60         |Recreio dos Bandeirantes|Zona Oeste|50000|400  |120 |\n",
      "|526755-OBLTYTEN|Outros     |Residencial|0        |0       |0     |0            |0     |0        |0              |200        |Guaratiba               |Zona Oeste|50000|0    |NULL|\n",
      "|593569-CJLMNFGW|Outros     |Comercial  |1        |0       |0     |0            |0     |2        |0              |25         |Freguesia (Jacarepaguá) |Zona Oeste|50000|801  |211 |\n",
      "|989181-RYJOLMCU|Outros     |Comercial  |1        |0       |0     |0            |0     |0        |0              |23         |Penha                   |Zona Norte|50000|230  |NULL|\n",
      "|145372-EZKAKSWM|Outros     |Comercial  |0        |0       |0     |0            |0     |0        |0              |60         |Ricardo de Albuquerque  |Zona Norte|45000|NULL |NULL|\n",
      "|792086-NWNQTDYL|Apartamento|Residencial|1        |1       |0     |1            |0     |0        |0              |33         |Jacarezinho             |Zona Norte|45336|0    |0   |\n",
      "+---------------+-----------+-----------+---------+--------+------+-------------+------+---------+---------------+-----------+------------------------+----------+-----+-----+----+\n",
      "only showing top 10 rows\n",
      "\n"
     ]
    },
    {
     "name": "stderr",
     "output_type": "stream",
     "text": [
      "                                                                                \r"
     ]
    }
   ],
   "source": [
    "dados\\\n",
    "    .select('ident.customerID', 'listing.types.*', 'listing.features.*', 'listing.address.*', 'listing.prices.price', 'listing.prices.tax.*')\\\n",
    "    .drop('city', 'location', 'totalAreas')\\\n",
    "    .show(10, False)"
   ]
  },
  {
   "cell_type": "code",
   "execution_count": 10,
   "metadata": {},
   "outputs": [],
   "source": [
    "dataset = dados\\\n",
    "    .select('ident.customerID', 'listing.types.*', 'listing.features.*', 'listing.address.*', 'listing.prices.price', 'listing.prices.tax.*')\\\n",
    "    .drop('city', 'location', 'totalAreas')"
   ]
  },
  {
   "cell_type": "markdown",
   "metadata": {},
   "source": [
    "# tratamento de dados"
   ]
  },
  {
   "cell_type": "code",
   "execution_count": 11,
   "metadata": {},
   "outputs": [
    {
     "name": "stdout",
     "output_type": "stream",
     "text": [
      "root\n",
      " |-- customerID: string (nullable = true)\n",
      " |-- unit: string (nullable = true)\n",
      " |-- usage: string (nullable = true)\n",
      " |-- bathrooms: long (nullable = true)\n",
      " |-- bedrooms: long (nullable = true)\n",
      " |-- floors: long (nullable = true)\n",
      " |-- parkingSpaces: long (nullable = true)\n",
      " |-- suites: long (nullable = true)\n",
      " |-- unitFloor: long (nullable = true)\n",
      " |-- unitsOnTheFloor: long (nullable = true)\n",
      " |-- usableAreas: string (nullable = true)\n",
      " |-- neighborhood: string (nullable = true)\n",
      " |-- zone: string (nullable = true)\n",
      " |-- price: string (nullable = true)\n",
      " |-- condo: string (nullable = true)\n",
      " |-- iptu: string (nullable = true)\n",
      "\n"
     ]
    }
   ],
   "source": [
    "dataset.printSchema()"
   ]
  },
  {
   "cell_type": "code",
   "execution_count": 12,
   "metadata": {},
   "outputs": [
    {
     "name": "stdout",
     "output_type": "stream",
     "text": [
      "root\n",
      " |-- customerID: string (nullable = true)\n",
      " |-- unit: string (nullable = true)\n",
      " |-- usage: string (nullable = true)\n",
      " |-- bathrooms: long (nullable = true)\n",
      " |-- bedrooms: long (nullable = true)\n",
      " |-- floors: long (nullable = true)\n",
      " |-- parkingSpaces: long (nullable = true)\n",
      " |-- suites: long (nullable = true)\n",
      " |-- unitFloor: long (nullable = true)\n",
      " |-- unitsOnTheFloor: long (nullable = true)\n",
      " |-- usableAreas: integer (nullable = true)\n",
      " |-- neighborhood: string (nullable = true)\n",
      " |-- zone: string (nullable = true)\n",
      " |-- price: double (nullable = true)\n",
      " |-- condo: double (nullable = true)\n",
      " |-- iptu: double (nullable = true)\n",
      "\n"
     ]
    }
   ],
   "source": [
    "dataset = dataset.withColumn('usableAreas', dataset['usableAreas'].cast(IntegerType()))\\\n",
    "                 .withColumn('price', dataset['price'].cast(DoubleType()))\\\n",
    "                 .withColumn('condo', dataset['condo'].cast(DoubleType()))\\\n",
    "                 .withColumn('iptu', dataset['iptu'].cast(DoubleType()))\n",
    "\n",
    "dataset.printSchema()"
   ]
  },
  {
   "cell_type": "code",
   "execution_count": 13,
   "metadata": {},
   "outputs": [
    {
     "name": "stderr",
     "output_type": "stream",
     "text": [
      "[Stage 8:>                                                          (0 + 1) / 1]\r"
     ]
    },
    {
     "name": "stdout",
     "output_type": "stream",
     "text": [
      "+---------------+-----------+-----------+---------+--------+------+-------------+------+---------+---------------+-----------+------------------------+----------+-------+-----+-----+\n",
      "|customerID     |unit       |usage      |bathrooms|bedrooms|floors|parkingSpaces|suites|unitFloor|unitsOnTheFloor|usableAreas|neighborhood            |zone      |price  |condo|iptu |\n",
      "+---------------+-----------+-----------+---------+--------+------+-------------+------+---------+---------------+-----------+------------------------+----------+-------+-----+-----+\n",
      "|775564-BOJSMVON|Outros     |Residencial|0        |0       |0     |1            |0     |0        |0              |62         |Taquara                 |Zona Oeste|45000.0|150.0|0.0  |\n",
      "|660895-AUENKNYY|Apartamento|Residencial|1        |2       |0     |1            |0     |0        |0              |44         |Santíssimo              |Zona Oeste|45000.0|120.0|0.0  |\n",
      "|751522-JESYFEQL|Outros     |Residencial|0        |0       |0     |0            |0     |0        |0              |132        |Pedra de Guaratiba      |Zona Oeste|50000.0|100.0|0.0  |\n",
      "|714052-GAAEWYKS|Outros     |Comercial  |1        |0       |0     |0            |0     |3        |0              |32         |Cascadura               |Zona Norte|45000.0|468.0|346.0|\n",
      "|568886-ZIBFOMCC|Apartamento|Residencial|2        |3       |3     |1            |1     |2        |4              |60         |Recreio dos Bandeirantes|Zona Oeste|50000.0|400.0|120.0|\n",
      "|526755-OBLTYTEN|Outros     |Residencial|0        |0       |0     |0            |0     |0        |0              |200        |Guaratiba               |Zona Oeste|50000.0|0.0  |NULL |\n",
      "|593569-CJLMNFGW|Outros     |Comercial  |1        |0       |0     |0            |0     |2        |0              |25         |Freguesia (Jacarepaguá) |Zona Oeste|50000.0|801.0|211.0|\n",
      "|989181-RYJOLMCU|Outros     |Comercial  |1        |0       |0     |0            |0     |0        |0              |23         |Penha                   |Zona Norte|50000.0|230.0|NULL |\n",
      "|145372-EZKAKSWM|Outros     |Comercial  |0        |0       |0     |0            |0     |0        |0              |60         |Ricardo de Albuquerque  |Zona Norte|45000.0|NULL |NULL |\n",
      "|792086-NWNQTDYL|Apartamento|Residencial|1        |1       |0     |1            |0     |0        |0              |33         |Jacarezinho             |Zona Norte|45336.0|0.0  |0.0  |\n",
      "+---------------+-----------+-----------+---------+--------+------+-------------+------+---------+---------------+-----------+------------------------+----------+-------+-----+-----+\n",
      "only showing top 10 rows\n",
      "\n"
     ]
    },
    {
     "name": "stderr",
     "output_type": "stream",
     "text": [
      "                                                                                \r"
     ]
    }
   ],
   "source": [
    "dataset.show(10, False)"
   ]
  },
  {
   "cell_type": "code",
   "execution_count": 14,
   "metadata": {},
   "outputs": [
    {
     "name": "stderr",
     "output_type": "stream",
     "text": [
      "[Stage 9:============================================>              (3 + 1) / 4]\r"
     ]
    },
    {
     "name": "stdout",
     "output_type": "stream",
     "text": [
      "+-----------+-----+\n",
      "|      usage|count|\n",
      "+-----------+-----+\n",
      "|  Comercial| 4019|\n",
      "|Residencial|69596|\n",
      "+-----------+-----+\n",
      "\n"
     ]
    },
    {
     "name": "stderr",
     "output_type": "stream",
     "text": [
      "                                                                                \r"
     ]
    }
   ],
   "source": [
    "dataset.select('usage').groupBy('usage').count().show()"
   ]
  },
  {
   "cell_type": "code",
   "execution_count": 15,
   "metadata": {},
   "outputs": [],
   "source": [
    "dataset = dataset.select('*').where('usage == \"Residencial\"')"
   ]
  },
  {
   "cell_type": "code",
   "execution_count": 16,
   "metadata": {},
   "outputs": [
    {
     "name": "stderr",
     "output_type": "stream",
     "text": [
      "[Stage 12:===========================================>              (3 + 1) / 4]\r"
     ]
    },
    {
     "name": "stdout",
     "output_type": "stream",
     "text": [
      "+-----------+-----+\n",
      "|       unit|count|\n",
      "+-----------+-----+\n",
      "|     Outros| 1190|\n",
      "|Apartamento|59106|\n",
      "|       Casa| 9300|\n",
      "+-----------+-----+\n",
      "\n"
     ]
    },
    {
     "name": "stderr",
     "output_type": "stream",
     "text": [
      "                                                                                \r"
     ]
    }
   ],
   "source": [
    "dataset.select('unit').groupBy('unit').count().show()"
   ]
  },
  {
   "cell_type": "code",
   "execution_count": 17,
   "metadata": {},
   "outputs": [
    {
     "name": "stderr",
     "output_type": "stream",
     "text": [
      "[Stage 15:===========================================>              (3 + 1) / 4]\r"
     ]
    },
    {
     "name": "stdout",
     "output_type": "stream",
     "text": [
      "+------------+-----+\n",
      "|        zone|count|\n",
      "+------------+-----+\n",
      "|  Zona Norte|14379|\n",
      "|  Zona Oeste|35523|\n",
      "|Zona Central| 1002|\n",
      "|    Zona Sul|18535|\n",
      "|            |  157|\n",
      "+------------+-----+\n",
      "\n"
     ]
    },
    {
     "name": "stderr",
     "output_type": "stream",
     "text": [
      "                                                                                \r"
     ]
    }
   ],
   "source": [
    "dataset.select('zone').groupBy('zone').count().show()"
   ]
  },
  {
   "cell_type": "markdown",
   "metadata": {},
   "source": [
    "## tratamento de dados faltantes"
   ]
  },
  {
   "cell_type": "code",
   "execution_count": 19,
   "metadata": {},
   "outputs": [
    {
     "name": "stderr",
     "output_type": "stream",
     "text": [
      "[Stage 18:===========================================>              (3 + 1) / 4]\r"
     ]
    },
    {
     "name": "stdout",
     "output_type": "stream",
     "text": [
      "+----------+----+-----+---------+--------+------+-------------+------+---------+---------------+-----------+------------+----+-----+-----+----+\n",
      "|customerID|unit|usage|bathrooms|bedrooms|floors|parkingSpaces|suites|unitFloor|unitsOnTheFloor|usableAreas|neighborhood|zone|price|condo|iptu|\n",
      "+----------+----+-----+---------+--------+------+-------------+------+---------+---------------+-----------+------------+----+-----+-----+----+\n",
      "|         0|   0|    0|        0|       0|     0|            0|     0|        0|              0|          0|           0|   0|    0| 6061|8726|\n",
      "+----------+----+-----+---------+--------+------+-------------+------+---------+---------------+-----------+------------+----+-----+-----+----+\n",
      "\n"
     ]
    },
    {
     "name": "stderr",
     "output_type": "stream",
     "text": [
      "                                                                                \r"
     ]
    }
   ],
   "source": [
    "dataset.select([f.count(f.when(f.isnan(c) | f.isnull(c), True)).alias(c) for c in dataset.columns]).show()"
   ]
  },
  {
   "cell_type": "code",
   "execution_count": 20,
   "metadata": {},
   "outputs": [],
   "source": [
    "dataset = dataset.select('*').na.fill(0)"
   ]
  },
  {
   "cell_type": "code",
   "execution_count": 21,
   "metadata": {},
   "outputs": [
    {
     "name": "stderr",
     "output_type": "stream",
     "text": [
      "[Stage 21:===========================================>              (3 + 1) / 4]\r"
     ]
    },
    {
     "name": "stdout",
     "output_type": "stream",
     "text": [
      "+----------+----+-----+---------+--------+------+-------------+------+---------+---------------+-----------+------------+----+-----+-----+----+\n",
      "|customerID|unit|usage|bathrooms|bedrooms|floors|parkingSpaces|suites|unitFloor|unitsOnTheFloor|usableAreas|neighborhood|zone|price|condo|iptu|\n",
      "+----------+----+-----+---------+--------+------+-------------+------+---------+---------------+-----------+------------+----+-----+-----+----+\n",
      "|         0|   0|    0|        0|       0|     0|            0|     0|        0|              0|          0|           0|   0|    0|    0|   0|\n",
      "+----------+----+-----+---------+--------+------+-------------+------+---------+---------------+-----------+------------+----+-----+-----+----+\n",
      "\n"
     ]
    },
    {
     "name": "stderr",
     "output_type": "stream",
     "text": [
      "                                                                                \r"
     ]
    }
   ],
   "source": [
    "dataset.select([f.count(f.when(f.isnan(c) | f.isnull(c), True)).alias(c) for c in dataset.columns]).show()"
   ]
  },
  {
   "cell_type": "code",
   "execution_count": 22,
   "metadata": {},
   "outputs": [
    {
     "name": "stderr",
     "output_type": "stream",
     "text": [
      "[Stage 24:===========================================>              (3 + 1) / 4]\r"
     ]
    },
    {
     "name": "stdout",
     "output_type": "stream",
     "text": [
      "+------------+-----+\n",
      "|        zone|count|\n",
      "+------------+-----+\n",
      "|  Zona Norte|14379|\n",
      "|  Zona Oeste|35523|\n",
      "|Zona Central| 1002|\n",
      "|    Zona Sul|18535|\n",
      "|            |  157|\n",
      "+------------+-----+\n",
      "\n"
     ]
    },
    {
     "name": "stderr",
     "output_type": "stream",
     "text": [
      "                                                                                \r"
     ]
    }
   ],
   "source": [
    "dataset.select('zone').groupBy('zone').count().show()"
   ]
  },
  {
   "cell_type": "code",
   "execution_count": 23,
   "metadata": {},
   "outputs": [],
   "source": [
    "dataset = dataset.where(f.col('zone') != '')"
   ]
  },
  {
   "cell_type": "markdown",
   "metadata": {},
   "source": [
    "# regressão linear"
   ]
  },
  {
   "cell_type": "markdown",
   "metadata": {},
   "source": [
    "variaveis dummy"
   ]
  },
  {
   "cell_type": "code",
   "execution_count": 24,
   "metadata": {},
   "outputs": [
    {
     "name": "stderr",
     "output_type": "stream",
     "text": [
      "                                                                                \r"
     ]
    }
   ],
   "source": [
    "unit = dataset.groupBy('customerID').pivot('unit').agg(f.lit(1)).na.fill(0)"
   ]
  },
  {
   "cell_type": "code",
   "execution_count": 25,
   "metadata": {},
   "outputs": [
    {
     "name": "stderr",
     "output_type": "stream",
     "text": [
      "                                                                                \r"
     ]
    }
   ],
   "source": [
    "zone = dataset.groupBy('customerID').pivot('zone').agg(f.lit(1)).na.fill(0)"
   ]
  },
  {
   "cell_type": "code",
   "execution_count": 26,
   "metadata": {},
   "outputs": [],
   "source": [
    "dataset = dataset.join(unit, 'customerID', how='inner')\\\n",
    "                 .join(zone, 'customerID', how='inner')"
   ]
  },
  {
   "cell_type": "code",
   "execution_count": 27,
   "metadata": {},
   "outputs": [
    {
     "name": "stderr",
     "output_type": "stream",
     "text": [
      "[Stage 55:>                                                         (0 + 1) / 1]\r"
     ]
    },
    {
     "name": "stdout",
     "output_type": "stream",
     "text": [
      "+---------------+-----------+-----------+---------+--------+------+-------------+------+---------+---------------+-----------+--------------------+------------+-------+-----+-----+-----------+----+------+------------+----------+----------+--------+\n",
      "|     customerID|       unit|      usage|bathrooms|bedrooms|floors|parkingSpaces|suites|unitFloor|unitsOnTheFloor|usableAreas|        neighborhood|        zone|  price|condo| iptu|Apartamento|Casa|Outros|Zona Central|Zona Norte|Zona Oeste|Zona Sul|\n",
      "+---------------+-----------+-----------+---------+--------+------+-------------+------+---------+---------------+-----------+--------------------+------------+-------+-----+-----+-----------+----+------+------------+----------+----------+--------+\n",
      "|775564-BOJSMVON|     Outros|Residencial|        0|       0|     0|            1|     0|        0|              0|         62|             Taquara|  Zona Oeste|45000.0|150.0|  0.0|          0|   0|     1|           0|         0|         1|       0|\n",
      "|660895-AUENKNYY|Apartamento|Residencial|        1|       2|     0|            1|     0|        0|              0|         44|          Santíssimo|  Zona Oeste|45000.0|120.0|  0.0|          1|   0|     0|           0|         0|         1|       0|\n",
      "|751522-JESYFEQL|     Outros|Residencial|        0|       0|     0|            0|     0|        0|              0|        132|  Pedra de Guaratiba|  Zona Oeste|50000.0|100.0|  0.0|          0|   0|     1|           0|         0|         1|       0|\n",
      "|568886-ZIBFOMCC|Apartamento|Residencial|        2|       3|     3|            1|     1|        2|              4|         60|Recreio dos Bande...|  Zona Oeste|50000.0|400.0|120.0|          1|   0|     0|           0|         0|         1|       0|\n",
      "|526755-OBLTYTEN|     Outros|Residencial|        0|       0|     0|            0|     0|        0|              0|        200|           Guaratiba|  Zona Oeste|50000.0|  0.0|  0.0|          0|   0|     1|           0|         0|         1|       0|\n",
      "|792086-NWNQTDYL|Apartamento|Residencial|        1|       1|     0|            1|     0|        0|              0|         33|         Jacarezinho|  Zona Norte|45336.0|  0.0|  0.0|          1|   0|     0|           0|         1|         0|       0|\n",
      "|339622-MNZGLKTZ|     Outros|Residencial|        0|       0|     0|            0|     0|        0|              0|        120|           Guaratiba|  Zona Oeste|45000.0|  0.0|  0.0|          0|   0|     1|           0|         0|         1|       0|\n",
      "|952338-SVULQMXR|     Outros|Residencial|        0|       0|     0|            0|     0|        0|              0|        468|          Santa Cruz|  Zona Oeste|45000.0|  0.0|  0.0|          0|   0|     1|           0|         0|         1|       0|\n",
      "|570439-LDICQOXZ|     Outros|Residencial|        0|       0|     0|            0|     0|        1|              0|        180|       Vargem Grande|  Zona Oeste|50000.0|  0.0|  0.0|          0|   0|     1|           0|         0|         1|       0|\n",
      "|684023-YTBNKLLO|     Outros|Residencial|        0|       0|     0|            0|     0|        0|              0|        128|               Bangu|  Zona Oeste|50000.0|  0.0|  0.0|          0|   0|     1|           0|         0|         1|       0|\n",
      "|629412-VKUMMAVR|     Outros|Residencial|        0|       0|     0|            0|     0|        1|              0|         82|              Tanque|  Zona Oeste|45000.0|300.0|  0.0|          0|   0|     1|           0|         0|         1|       0|\n",
      "|951104-MACIAPIS|Apartamento|Residencial|        2|       3|    20|            1|     1|       20|             19|         70|        Santo Cristo|Zona Central|45000.0|350.0|120.0|          1|   0|     0|           1|         0|         0|       0|\n",
      "|375665-GHMFEZXX|Apartamento|Residencial|        2|       3|    20|            1|     1|       20|             19|         70|        Santo Cristo|Zona Central|50000.0|350.0|120.0|          1|   0|     0|           1|         0|         0|       0|\n",
      "|441711-LRTWHRUA|Apartamento|Residencial|        1|       1|     0|            0|     0|        2|              0|         37|  Pedra de Guaratiba|  Zona Oeste|50000.0|  0.0|  0.0|          1|   0|     0|           0|         0|         1|       0|\n",
      "|221946-ENAQETGD|     Outros|Residencial|        0|       0|     0|            0|     0|        0|              0|        120|           Guaratiba|  Zona Oeste|45020.0|  0.0|  0.0|          0|   0|     1|           0|         0|         1|       0|\n",
      "|023787-PTASXXTL|     Outros|Residencial|        0|       0|     0|            0|     0|        0|              0|        120|           Guaratiba|  Zona Oeste|45040.0|  0.0|  0.0|          0|   0|     1|           0|         0|         1|       0|\n",
      "|385687-SWOBLUWG|     Outros|Residencial|        0|       0|     0|            0|     0|        0|              0|        150|          Santa Cruz|  Zona Oeste|45000.0|  0.0|  0.0|          0|   0|     1|           0|         0|         1|       0|\n",
      "|037953-VZOABKON|Apartamento|Residencial|        1|       2|     0|            1|     0|        0|              0|         30|         Coelho Neto|  Zona Norte|45000.0|  0.0|  0.0|          1|   0|     0|           0|         1|         0|       0|\n",
      "|913561-GIAMXOYU|     Outros|Residencial|        0|       0|     0|            0|     0|        0|              0|        128|           Guaratiba|  Zona Oeste|45000.0|  0.0|  0.0|          0|   0|     1|           0|         0|         1|       0|\n",
      "|511928-EYKXPKBU|     Outros|Residencial|        0|       0|     0|            0|     0|        0|              0|        120|           Guaratiba|  Zona Oeste|45070.0|  0.0|  0.0|          0|   0|     1|           0|         0|         1|       0|\n",
      "+---------------+-----------+-----------+---------+--------+------+-------------+------+---------+---------------+-----------+--------------------+------------+-------+-----+-----+-----------+----+------+------------+----------+----------+--------+\n",
      "only showing top 20 rows\n",
      "\n"
     ]
    },
    {
     "name": "stderr",
     "output_type": "stream",
     "text": [
      "                                                                                \r"
     ]
    }
   ],
   "source": [
    "dataset.show()"
   ]
  },
  {
   "cell_type": "markdown",
   "metadata": {},
   "source": [
    "vetorização dos dados"
   ]
  },
  {
   "cell_type": "code",
   "execution_count": 29,
   "metadata": {},
   "outputs": [],
   "source": [
    "dataset = dataset.withColumnRenamed('price', 'label')"
   ]
  },
  {
   "cell_type": "code",
   "execution_count": 30,
   "metadata": {},
   "outputs": [],
   "source": [
    "X = [\n",
    "    'bathrooms',\n",
    "    'bedrooms',\n",
    "    'floors',\n",
    "    'parkingSpaces',\n",
    "    'suites',\n",
    "    'unitFloor',\n",
    "    'unitsOnTheFloor',\n",
    "    'usableAreas',\n",
    "    'condo',\n",
    "    'iptu',\n",
    "    'Apartamento',\n",
    "    'Casa',\n",
    "    'Outros',\n",
    "    'Zona Central',\n",
    "    'Zona Norte',\n",
    "    'Zona Oeste',\n",
    "    'Zona Sul'\n",
    "]"
   ]
  },
  {
   "cell_type": "code",
   "execution_count": 31,
   "metadata": {},
   "outputs": [],
   "source": [
    "assembler = VectorAssembler(inputCols=X, outputCol='features')"
   ]
  },
  {
   "cell_type": "code",
   "execution_count": 33,
   "metadata": {},
   "outputs": [],
   "source": [
    "dataset_prep = assembler.transform(dataset).select('features', 'label')"
   ]
  },
  {
   "cell_type": "code",
   "execution_count": 34,
   "metadata": {},
   "outputs": [
    {
     "name": "stderr",
     "output_type": "stream",
     "text": [
      "24/11/23 18:52:34 WARN SparkStringUtils: Truncated the string representation of a plan since it was too large. This behavior can be adjusted by setting 'spark.sql.debug.maxToStringFields'.\n",
      "[Stage 81:>                                                         (0 + 1) / 1]\r"
     ]
    },
    {
     "name": "stdout",
     "output_type": "stream",
     "text": [
      "+--------------------------------------------------------------------------+-------+\n",
      "|features                                                                  |label  |\n",
      "+--------------------------------------------------------------------------+-------+\n",
      "|(17,[3,7,8,12,15],[1.0,62.0,150.0,1.0,1.0])                               |45000.0|\n",
      "|(17,[0,1,3,7,8,10,15],[1.0,2.0,1.0,44.0,120.0,1.0,1.0])                   |45000.0|\n",
      "|(17,[7,8,12,15],[132.0,100.0,1.0,1.0])                                    |50000.0|\n",
      "|[2.0,3.0,3.0,1.0,1.0,2.0,4.0,60.0,400.0,120.0,1.0,0.0,0.0,0.0,0.0,1.0,0.0]|50000.0|\n",
      "|(17,[7,12,15],[200.0,1.0,1.0])                                            |50000.0|\n",
      "|(17,[0,1,3,7,10,14],[1.0,1.0,1.0,33.0,1.0,1.0])                           |45336.0|\n",
      "|(17,[7,12,15],[120.0,1.0,1.0])                                            |45000.0|\n",
      "|(17,[7,12,15],[468.0,1.0,1.0])                                            |45000.0|\n",
      "|(17,[5,7,12,15],[1.0,180.0,1.0,1.0])                                      |50000.0|\n",
      "|(17,[7,12,15],[128.0,1.0,1.0])                                            |50000.0|\n",
      "+--------------------------------------------------------------------------+-------+\n",
      "only showing top 10 rows\n",
      "\n"
     ]
    },
    {
     "name": "stderr",
     "output_type": "stream",
     "text": [
      "                                                                                \r"
     ]
    }
   ],
   "source": [
    "dataset_prep.show(10, False)"
   ]
  },
  {
   "cell_type": "markdown",
   "metadata": {},
   "source": [
    "# exploração dos dados"
   ]
  },
  {
   "cell_type": "code",
   "execution_count": 38,
   "metadata": {},
   "outputs": [
    {
     "name": "stderr",
     "output_type": "stream",
     "text": [
      "                                                                                \r"
     ]
    }
   ],
   "source": [
    "correlacao = Correlation.corr(dataset_prep, 'features').collect()[0][0]"
   ]
  },
  {
   "cell_type": "code",
   "execution_count": 39,
   "metadata": {},
   "outputs": [
    {
     "data": {
      "text/plain": [
       "DenseMatrix(17, 17, [1.0, 0.6659, -0.0446, 0.4876, 0.7529, 0.0076, -0.1074, 0.5981, ..., 0.0088, 0.1803, -0.1833, -0.0165, -0.073, -0.3084, -0.6176, 1.0], False)"
      ]
     },
     "execution_count": 39,
     "metadata": {},
     "output_type": "execute_result"
    }
   ],
   "source": [
    "correlacao"
   ]
  },
  {
   "cell_type": "code",
   "execution_count": 41,
   "metadata": {},
   "outputs": [
    {
     "data": {
      "text/plain": [
       "array([[ 1.00000000e+00,  6.65910814e-01, -4.45907541e-02,\n",
       "         4.87590447e-01,  7.52927830e-01,  7.62425469e-03,\n",
       "        -1.07437445e-01,  5.98072790e-01,  2.00298945e-02,\n",
       "         1.51023977e-02, -2.75457964e-01,  3.43042378e-01,\n",
       "        -1.40183420e-01, -9.73678190e-02, -1.62497441e-01,\n",
       "         2.42345124e-01, -9.87517576e-02],\n",
       "       [ 6.65910814e-01,  1.00000000e+00, -8.21840063e-02,\n",
       "         4.67161260e-01,  6.01199220e-01, -7.16195849e-03,\n",
       "        -1.30814438e-01,  5.63750247e-01,  1.84819307e-02,\n",
       "         1.36391535e-02, -2.58339018e-01,  3.49962189e-01,\n",
       "        -2.05607705e-01, -1.23732152e-01, -1.11711865e-01,\n",
       "         1.63821698e-01, -4.94325200e-02],\n",
       "       [-4.45907541e-02, -8.21840063e-02,  1.00000000e+00,\n",
       "        -4.84861921e-02, -4.81062141e-02,  1.20981700e-01,\n",
       "         7.37717422e-01, -1.03916850e-01,  1.37973623e-02,\n",
       "         6.68849447e-03,  1.53947015e-01, -1.42089598e-01,\n",
       "        -5.19462291e-02,  1.26044467e-01, -1.69262936e-02,\n",
       "        -3.17495417e-02,  1.74019374e-02],\n",
       "       [ 4.87590447e-01,  4.67161260e-01, -4.84861921e-02,\n",
       "         1.00000000e+00,  4.84987652e-01,  3.76755370e-03,\n",
       "        -7.45265146e-02,  4.83731813e-01,  1.80124560e-02,\n",
       "         9.72140387e-03, -2.52745585e-01,  2.93325601e-01,\n",
       "        -7.23593595e-02, -8.64368160e-02, -1.09956571e-01,\n",
       "         2.67989967e-01, -1.78806840e-01],\n",
       "       [ 7.52927830e-01,  6.01199220e-01, -4.81062141e-02,\n",
       "         4.84987652e-01,  1.00000000e+00,  5.20616260e-03,\n",
       "        -9.19136006e-02,  5.77635834e-01,  2.34606128e-02,\n",
       "         1.90926884e-02, -2.36216911e-01,  2.82221024e-01,\n",
       "        -8.88343634e-02, -8.44165774e-02, -2.30316589e-01,\n",
       "         3.27546479e-01, -1.36397821e-01],\n",
       "       [ 7.62425469e-03, -7.16195849e-03,  1.20981700e-01,\n",
       "         3.76755370e-03,  5.20616260e-03,  1.00000000e+00,\n",
       "         9.23587397e-02, -1.27484319e-02,  3.06513241e-03,\n",
       "         1.20011722e-03,  3.46738112e-02, -3.14033404e-02,\n",
       "        -1.32746256e-02,  2.23147530e-02, -1.11115741e-02,\n",
       "         7.51785790e-03, -4.33263857e-03],\n",
       "       [-1.07437445e-01, -1.30814438e-01,  7.37717422e-01,\n",
       "        -7.45265146e-02, -9.19136006e-02,  9.23587397e-02,\n",
       "         1.00000000e+00, -1.44221795e-01, -5.53843929e-04,\n",
       "         5.02931788e-03,  1.47497097e-01, -1.37754210e-01,\n",
       "        -4.55227478e-02,  1.53638929e-01,  3.07529156e-02,\n",
       "        -1.24335521e-02, -5.55403382e-02],\n",
       "       [ 5.98072790e-01,  5.63750247e-01, -1.03916850e-01,\n",
       "         4.83731813e-01,  5.77635834e-01, -1.27484319e-02,\n",
       "        -1.44221795e-01,  1.00000000e+00,  1.97170581e-02,\n",
       "         1.46557718e-02, -4.82170368e-01,  4.59136000e-01,\n",
       "         1.25671636e-01, -7.52556784e-02, -1.58553255e-01,\n",
       "         1.92466079e-01, -5.19618547e-02],\n",
       "       [ 2.00298945e-02,  1.84819307e-02,  1.37973623e-02,\n",
       "         1.80124560e-02,  2.34606128e-02,  3.06513241e-03,\n",
       "        -5.53843929e-04,  1.97170581e-02,  1.00000000e+00,\n",
       "         2.26212288e-01,  9.10511948e-03, -8.62354544e-03,\n",
       "        -2.49547974e-03, -3.55287358e-03, -1.34528170e-02,\n",
       "        -1.05527328e-03,  1.44735011e-02],\n",
       "       [ 1.51023977e-02,  1.36391535e-02,  6.68849447e-03,\n",
       "         9.72140387e-03,  1.90926884e-02,  1.20011722e-03,\n",
       "         5.02931788e-03,  1.46557718e-02,  2.26212288e-01,\n",
       "         1.00000000e+00, -1.50172361e-03,  2.29128332e-03,\n",
       "        -1.86978516e-03, -2.43773221e-03, -8.40029867e-03,\n",
       "        -4.27577570e-04,  8.83529747e-03],\n",
       "       [-2.75457964e-01, -2.58339018e-01,  1.53947015e-01,\n",
       "        -2.52745585e-01, -2.36216911e-01,  3.46738112e-02,\n",
       "         1.47497097e-01, -4.82170368e-01,  9.10511948e-03,\n",
       "        -1.50172361e-03,  1.00000000e+00, -9.32270330e-01,\n",
       "        -3.13032028e-01,  3.40733867e-02,  1.03123851e-02,\n",
       "        -1.76033305e-01,  1.80288204e-01],\n",
       "       [ 3.43042378e-01,  3.49962189e-01, -1.42089598e-01,\n",
       "         2.93325601e-01,  2.82221024e-01, -3.14033404e-02,\n",
       "        -1.37754210e-01,  4.59136000e-01, -8.62354544e-03,\n",
       "         2.29128332e-03, -9.32270330e-01,  1.00000000e+00,\n",
       "        -5.17506766e-02, -4.18230764e-02, -7.96096280e-03,\n",
       "         1.78639806e-01, -1.83298315e-01],\n",
       "       [-1.40183420e-01, -2.05607705e-01, -5.19462291e-02,\n",
       "        -7.23593595e-02, -8.88343634e-02, -1.32746256e-02,\n",
       "        -4.55227478e-02,  1.25671636e-01, -2.49547974e-03,\n",
       "        -1.86978516e-03, -3.13032028e-01, -5.17506766e-02,\n",
       "         1.00000000e+00,  1.57380272e-02, -7.56767884e-03,\n",
       "         1.69602975e-02, -1.64760386e-02],\n",
       "       [-9.73678190e-02, -1.23732152e-01,  1.26044467e-01,\n",
       "        -8.64368160e-02, -8.44165774e-02,  2.23147530e-02,\n",
       "         1.53638929e-01, -7.52556784e-02, -3.55287358e-03,\n",
       "        -2.43773221e-03,  3.40733867e-02, -4.18230764e-02,\n",
       "         1.57380272e-02,  1.00000000e+00, -6.18350359e-02,\n",
       "        -1.23834280e-01, -7.30144333e-02],\n",
       "       [-1.62497441e-01, -1.11711865e-01, -1.69262936e-02,\n",
       "        -1.09956571e-01, -2.30316589e-01, -1.11115741e-02,\n",
       "         3.07529156e-02, -1.58553255e-01, -1.34528170e-02,\n",
       "        -8.40029867e-03,  1.03123851e-02, -7.96096280e-03,\n",
       "        -7.56767884e-03, -6.18350359e-02,  1.00000000e+00,\n",
       "        -5.22996452e-01, -3.08366065e-01],\n",
       "       [ 2.42345124e-01,  1.63821698e-01, -3.17495417e-02,\n",
       "         2.67989967e-01,  3.27546479e-01,  7.51785790e-03,\n",
       "        -1.24335521e-02,  1.92466079e-01, -1.05527328e-03,\n",
       "        -4.27577570e-04, -1.76033305e-01,  1.78639806e-01,\n",
       "         1.69602975e-02, -1.23834280e-01, -5.22996452e-01,\n",
       "         1.00000000e+00, -6.17551022e-01],\n",
       "       [-9.87517576e-02, -4.94325200e-02,  1.74019374e-02,\n",
       "        -1.78806840e-01, -1.36397821e-01, -4.33263857e-03,\n",
       "        -5.55403382e-02, -5.19618547e-02,  1.44735011e-02,\n",
       "         8.83529747e-03,  1.80288204e-01, -1.83298315e-01,\n",
       "        -1.64760386e-02, -7.30144333e-02, -3.08366065e-01,\n",
       "        -6.17551022e-01,  1.00000000e+00]])"
      ]
     },
     "execution_count": 41,
     "metadata": {},
     "output_type": "execute_result"
    }
   ],
   "source": [
    "correlacao.toArray()"
   ]
  },
  {
   "cell_type": "code",
   "execution_count": 42,
   "metadata": {},
   "outputs": [
    {
     "data": {
      "text/html": [
       "<div>\n",
       "<style scoped>\n",
       "    .dataframe tbody tr th:only-of-type {\n",
       "        vertical-align: middle;\n",
       "    }\n",
       "\n",
       "    .dataframe tbody tr th {\n",
       "        vertical-align: top;\n",
       "    }\n",
       "\n",
       "    .dataframe thead th {\n",
       "        text-align: right;\n",
       "    }\n",
       "</style>\n",
       "<table border=\"1\" class=\"dataframe\">\n",
       "  <thead>\n",
       "    <tr style=\"text-align: right;\">\n",
       "      <th></th>\n",
       "      <th>bathrooms</th>\n",
       "      <th>bedrooms</th>\n",
       "      <th>floors</th>\n",
       "      <th>parkingSpaces</th>\n",
       "      <th>suites</th>\n",
       "      <th>unitFloor</th>\n",
       "      <th>unitsOnTheFloor</th>\n",
       "      <th>usableAreas</th>\n",
       "      <th>condo</th>\n",
       "      <th>iptu</th>\n",
       "      <th>Apartamento</th>\n",
       "      <th>Casa</th>\n",
       "      <th>Outros</th>\n",
       "      <th>Zona Central</th>\n",
       "      <th>Zona Norte</th>\n",
       "      <th>Zona Oeste</th>\n",
       "      <th>Zona Sul</th>\n",
       "    </tr>\n",
       "  </thead>\n",
       "  <tbody>\n",
       "    <tr>\n",
       "      <th>bathrooms</th>\n",
       "      <td>1.000000</td>\n",
       "      <td>0.665911</td>\n",
       "      <td>-0.044591</td>\n",
       "      <td>0.487590</td>\n",
       "      <td>0.752928</td>\n",
       "      <td>0.007624</td>\n",
       "      <td>-0.107437</td>\n",
       "      <td>0.598073</td>\n",
       "      <td>0.020030</td>\n",
       "      <td>0.015102</td>\n",
       "      <td>-0.275458</td>\n",
       "      <td>0.343042</td>\n",
       "      <td>-0.140183</td>\n",
       "      <td>-0.097368</td>\n",
       "      <td>-0.162497</td>\n",
       "      <td>0.242345</td>\n",
       "      <td>-0.098752</td>\n",
       "    </tr>\n",
       "    <tr>\n",
       "      <th>bedrooms</th>\n",
       "      <td>0.665911</td>\n",
       "      <td>1.000000</td>\n",
       "      <td>-0.082184</td>\n",
       "      <td>0.467161</td>\n",
       "      <td>0.601199</td>\n",
       "      <td>-0.007162</td>\n",
       "      <td>-0.130814</td>\n",
       "      <td>0.563750</td>\n",
       "      <td>0.018482</td>\n",
       "      <td>0.013639</td>\n",
       "      <td>-0.258339</td>\n",
       "      <td>0.349962</td>\n",
       "      <td>-0.205608</td>\n",
       "      <td>-0.123732</td>\n",
       "      <td>-0.111712</td>\n",
       "      <td>0.163822</td>\n",
       "      <td>-0.049433</td>\n",
       "    </tr>\n",
       "    <tr>\n",
       "      <th>floors</th>\n",
       "      <td>-0.044591</td>\n",
       "      <td>-0.082184</td>\n",
       "      <td>1.000000</td>\n",
       "      <td>-0.048486</td>\n",
       "      <td>-0.048106</td>\n",
       "      <td>0.120982</td>\n",
       "      <td>0.737717</td>\n",
       "      <td>-0.103917</td>\n",
       "      <td>0.013797</td>\n",
       "      <td>0.006688</td>\n",
       "      <td>0.153947</td>\n",
       "      <td>-0.142090</td>\n",
       "      <td>-0.051946</td>\n",
       "      <td>0.126044</td>\n",
       "      <td>-0.016926</td>\n",
       "      <td>-0.031750</td>\n",
       "      <td>0.017402</td>\n",
       "    </tr>\n",
       "    <tr>\n",
       "      <th>parkingSpaces</th>\n",
       "      <td>0.487590</td>\n",
       "      <td>0.467161</td>\n",
       "      <td>-0.048486</td>\n",
       "      <td>1.000000</td>\n",
       "      <td>0.484988</td>\n",
       "      <td>0.003768</td>\n",
       "      <td>-0.074527</td>\n",
       "      <td>0.483732</td>\n",
       "      <td>0.018012</td>\n",
       "      <td>0.009721</td>\n",
       "      <td>-0.252746</td>\n",
       "      <td>0.293326</td>\n",
       "      <td>-0.072359</td>\n",
       "      <td>-0.086437</td>\n",
       "      <td>-0.109957</td>\n",
       "      <td>0.267990</td>\n",
       "      <td>-0.178807</td>\n",
       "    </tr>\n",
       "    <tr>\n",
       "      <th>suites</th>\n",
       "      <td>0.752928</td>\n",
       "      <td>0.601199</td>\n",
       "      <td>-0.048106</td>\n",
       "      <td>0.484988</td>\n",
       "      <td>1.000000</td>\n",
       "      <td>0.005206</td>\n",
       "      <td>-0.091914</td>\n",
       "      <td>0.577636</td>\n",
       "      <td>0.023461</td>\n",
       "      <td>0.019093</td>\n",
       "      <td>-0.236217</td>\n",
       "      <td>0.282221</td>\n",
       "      <td>-0.088834</td>\n",
       "      <td>-0.084417</td>\n",
       "      <td>-0.230317</td>\n",
       "      <td>0.327546</td>\n",
       "      <td>-0.136398</td>\n",
       "    </tr>\n",
       "    <tr>\n",
       "      <th>unitFloor</th>\n",
       "      <td>0.007624</td>\n",
       "      <td>-0.007162</td>\n",
       "      <td>0.120982</td>\n",
       "      <td>0.003768</td>\n",
       "      <td>0.005206</td>\n",
       "      <td>1.000000</td>\n",
       "      <td>0.092359</td>\n",
       "      <td>-0.012748</td>\n",
       "      <td>0.003065</td>\n",
       "      <td>0.001200</td>\n",
       "      <td>0.034674</td>\n",
       "      <td>-0.031403</td>\n",
       "      <td>-0.013275</td>\n",
       "      <td>0.022315</td>\n",
       "      <td>-0.011112</td>\n",
       "      <td>0.007518</td>\n",
       "      <td>-0.004333</td>\n",
       "    </tr>\n",
       "    <tr>\n",
       "      <th>unitsOnTheFloor</th>\n",
       "      <td>-0.107437</td>\n",
       "      <td>-0.130814</td>\n",
       "      <td>0.737717</td>\n",
       "      <td>-0.074527</td>\n",
       "      <td>-0.091914</td>\n",
       "      <td>0.092359</td>\n",
       "      <td>1.000000</td>\n",
       "      <td>-0.144222</td>\n",
       "      <td>-0.000554</td>\n",
       "      <td>0.005029</td>\n",
       "      <td>0.147497</td>\n",
       "      <td>-0.137754</td>\n",
       "      <td>-0.045523</td>\n",
       "      <td>0.153639</td>\n",
       "      <td>0.030753</td>\n",
       "      <td>-0.012434</td>\n",
       "      <td>-0.055540</td>\n",
       "    </tr>\n",
       "    <tr>\n",
       "      <th>usableAreas</th>\n",
       "      <td>0.598073</td>\n",
       "      <td>0.563750</td>\n",
       "      <td>-0.103917</td>\n",
       "      <td>0.483732</td>\n",
       "      <td>0.577636</td>\n",
       "      <td>-0.012748</td>\n",
       "      <td>-0.144222</td>\n",
       "      <td>1.000000</td>\n",
       "      <td>0.019717</td>\n",
       "      <td>0.014656</td>\n",
       "      <td>-0.482170</td>\n",
       "      <td>0.459136</td>\n",
       "      <td>0.125672</td>\n",
       "      <td>-0.075256</td>\n",
       "      <td>-0.158553</td>\n",
       "      <td>0.192466</td>\n",
       "      <td>-0.051962</td>\n",
       "    </tr>\n",
       "    <tr>\n",
       "      <th>condo</th>\n",
       "      <td>0.020030</td>\n",
       "      <td>0.018482</td>\n",
       "      <td>0.013797</td>\n",
       "      <td>0.018012</td>\n",
       "      <td>0.023461</td>\n",
       "      <td>0.003065</td>\n",
       "      <td>-0.000554</td>\n",
       "      <td>0.019717</td>\n",
       "      <td>1.000000</td>\n",
       "      <td>0.226212</td>\n",
       "      <td>0.009105</td>\n",
       "      <td>-0.008624</td>\n",
       "      <td>-0.002495</td>\n",
       "      <td>-0.003553</td>\n",
       "      <td>-0.013453</td>\n",
       "      <td>-0.001055</td>\n",
       "      <td>0.014474</td>\n",
       "    </tr>\n",
       "    <tr>\n",
       "      <th>iptu</th>\n",
       "      <td>0.015102</td>\n",
       "      <td>0.013639</td>\n",
       "      <td>0.006688</td>\n",
       "      <td>0.009721</td>\n",
       "      <td>0.019093</td>\n",
       "      <td>0.001200</td>\n",
       "      <td>0.005029</td>\n",
       "      <td>0.014656</td>\n",
       "      <td>0.226212</td>\n",
       "      <td>1.000000</td>\n",
       "      <td>-0.001502</td>\n",
       "      <td>0.002291</td>\n",
       "      <td>-0.001870</td>\n",
       "      <td>-0.002438</td>\n",
       "      <td>-0.008400</td>\n",
       "      <td>-0.000428</td>\n",
       "      <td>0.008835</td>\n",
       "    </tr>\n",
       "    <tr>\n",
       "      <th>Apartamento</th>\n",
       "      <td>-0.275458</td>\n",
       "      <td>-0.258339</td>\n",
       "      <td>0.153947</td>\n",
       "      <td>-0.252746</td>\n",
       "      <td>-0.236217</td>\n",
       "      <td>0.034674</td>\n",
       "      <td>0.147497</td>\n",
       "      <td>-0.482170</td>\n",
       "      <td>0.009105</td>\n",
       "      <td>-0.001502</td>\n",
       "      <td>1.000000</td>\n",
       "      <td>-0.932270</td>\n",
       "      <td>-0.313032</td>\n",
       "      <td>0.034073</td>\n",
       "      <td>0.010312</td>\n",
       "      <td>-0.176033</td>\n",
       "      <td>0.180288</td>\n",
       "    </tr>\n",
       "    <tr>\n",
       "      <th>Casa</th>\n",
       "      <td>0.343042</td>\n",
       "      <td>0.349962</td>\n",
       "      <td>-0.142090</td>\n",
       "      <td>0.293326</td>\n",
       "      <td>0.282221</td>\n",
       "      <td>-0.031403</td>\n",
       "      <td>-0.137754</td>\n",
       "      <td>0.459136</td>\n",
       "      <td>-0.008624</td>\n",
       "      <td>0.002291</td>\n",
       "      <td>-0.932270</td>\n",
       "      <td>1.000000</td>\n",
       "      <td>-0.051751</td>\n",
       "      <td>-0.041823</td>\n",
       "      <td>-0.007961</td>\n",
       "      <td>0.178640</td>\n",
       "      <td>-0.183298</td>\n",
       "    </tr>\n",
       "    <tr>\n",
       "      <th>Outros</th>\n",
       "      <td>-0.140183</td>\n",
       "      <td>-0.205608</td>\n",
       "      <td>-0.051946</td>\n",
       "      <td>-0.072359</td>\n",
       "      <td>-0.088834</td>\n",
       "      <td>-0.013275</td>\n",
       "      <td>-0.045523</td>\n",
       "      <td>0.125672</td>\n",
       "      <td>-0.002495</td>\n",
       "      <td>-0.001870</td>\n",
       "      <td>-0.313032</td>\n",
       "      <td>-0.051751</td>\n",
       "      <td>1.000000</td>\n",
       "      <td>0.015738</td>\n",
       "      <td>-0.007568</td>\n",
       "      <td>0.016960</td>\n",
       "      <td>-0.016476</td>\n",
       "    </tr>\n",
       "    <tr>\n",
       "      <th>Zona Central</th>\n",
       "      <td>-0.097368</td>\n",
       "      <td>-0.123732</td>\n",
       "      <td>0.126044</td>\n",
       "      <td>-0.086437</td>\n",
       "      <td>-0.084417</td>\n",
       "      <td>0.022315</td>\n",
       "      <td>0.153639</td>\n",
       "      <td>-0.075256</td>\n",
       "      <td>-0.003553</td>\n",
       "      <td>-0.002438</td>\n",
       "      <td>0.034073</td>\n",
       "      <td>-0.041823</td>\n",
       "      <td>0.015738</td>\n",
       "      <td>1.000000</td>\n",
       "      <td>-0.061835</td>\n",
       "      <td>-0.123834</td>\n",
       "      <td>-0.073014</td>\n",
       "    </tr>\n",
       "    <tr>\n",
       "      <th>Zona Norte</th>\n",
       "      <td>-0.162497</td>\n",
       "      <td>-0.111712</td>\n",
       "      <td>-0.016926</td>\n",
       "      <td>-0.109957</td>\n",
       "      <td>-0.230317</td>\n",
       "      <td>-0.011112</td>\n",
       "      <td>0.030753</td>\n",
       "      <td>-0.158553</td>\n",
       "      <td>-0.013453</td>\n",
       "      <td>-0.008400</td>\n",
       "      <td>0.010312</td>\n",
       "      <td>-0.007961</td>\n",
       "      <td>-0.007568</td>\n",
       "      <td>-0.061835</td>\n",
       "      <td>1.000000</td>\n",
       "      <td>-0.522996</td>\n",
       "      <td>-0.308366</td>\n",
       "    </tr>\n",
       "    <tr>\n",
       "      <th>Zona Oeste</th>\n",
       "      <td>0.242345</td>\n",
       "      <td>0.163822</td>\n",
       "      <td>-0.031750</td>\n",
       "      <td>0.267990</td>\n",
       "      <td>0.327546</td>\n",
       "      <td>0.007518</td>\n",
       "      <td>-0.012434</td>\n",
       "      <td>0.192466</td>\n",
       "      <td>-0.001055</td>\n",
       "      <td>-0.000428</td>\n",
       "      <td>-0.176033</td>\n",
       "      <td>0.178640</td>\n",
       "      <td>0.016960</td>\n",
       "      <td>-0.123834</td>\n",
       "      <td>-0.522996</td>\n",
       "      <td>1.000000</td>\n",
       "      <td>-0.617551</td>\n",
       "    </tr>\n",
       "    <tr>\n",
       "      <th>Zona Sul</th>\n",
       "      <td>-0.098752</td>\n",
       "      <td>-0.049433</td>\n",
       "      <td>0.017402</td>\n",
       "      <td>-0.178807</td>\n",
       "      <td>-0.136398</td>\n",
       "      <td>-0.004333</td>\n",
       "      <td>-0.055540</td>\n",
       "      <td>-0.051962</td>\n",
       "      <td>0.014474</td>\n",
       "      <td>0.008835</td>\n",
       "      <td>0.180288</td>\n",
       "      <td>-0.183298</td>\n",
       "      <td>-0.016476</td>\n",
       "      <td>-0.073014</td>\n",
       "      <td>-0.308366</td>\n",
       "      <td>-0.617551</td>\n",
       "      <td>1.000000</td>\n",
       "    </tr>\n",
       "  </tbody>\n",
       "</table>\n",
       "</div>"
      ],
      "text/plain": [
       "                 bathrooms  bedrooms    floors  parkingSpaces    suites  \\\n",
       "bathrooms         1.000000  0.665911 -0.044591       0.487590  0.752928   \n",
       "bedrooms          0.665911  1.000000 -0.082184       0.467161  0.601199   \n",
       "floors           -0.044591 -0.082184  1.000000      -0.048486 -0.048106   \n",
       "parkingSpaces     0.487590  0.467161 -0.048486       1.000000  0.484988   \n",
       "suites            0.752928  0.601199 -0.048106       0.484988  1.000000   \n",
       "unitFloor         0.007624 -0.007162  0.120982       0.003768  0.005206   \n",
       "unitsOnTheFloor  -0.107437 -0.130814  0.737717      -0.074527 -0.091914   \n",
       "usableAreas       0.598073  0.563750 -0.103917       0.483732  0.577636   \n",
       "condo             0.020030  0.018482  0.013797       0.018012  0.023461   \n",
       "iptu              0.015102  0.013639  0.006688       0.009721  0.019093   \n",
       "Apartamento      -0.275458 -0.258339  0.153947      -0.252746 -0.236217   \n",
       "Casa              0.343042  0.349962 -0.142090       0.293326  0.282221   \n",
       "Outros           -0.140183 -0.205608 -0.051946      -0.072359 -0.088834   \n",
       "Zona Central     -0.097368 -0.123732  0.126044      -0.086437 -0.084417   \n",
       "Zona Norte       -0.162497 -0.111712 -0.016926      -0.109957 -0.230317   \n",
       "Zona Oeste        0.242345  0.163822 -0.031750       0.267990  0.327546   \n",
       "Zona Sul         -0.098752 -0.049433  0.017402      -0.178807 -0.136398   \n",
       "\n",
       "                 unitFloor  unitsOnTheFloor  usableAreas     condo      iptu  \\\n",
       "bathrooms         0.007624        -0.107437     0.598073  0.020030  0.015102   \n",
       "bedrooms         -0.007162        -0.130814     0.563750  0.018482  0.013639   \n",
       "floors            0.120982         0.737717    -0.103917  0.013797  0.006688   \n",
       "parkingSpaces     0.003768        -0.074527     0.483732  0.018012  0.009721   \n",
       "suites            0.005206        -0.091914     0.577636  0.023461  0.019093   \n",
       "unitFloor         1.000000         0.092359    -0.012748  0.003065  0.001200   \n",
       "unitsOnTheFloor   0.092359         1.000000    -0.144222 -0.000554  0.005029   \n",
       "usableAreas      -0.012748        -0.144222     1.000000  0.019717  0.014656   \n",
       "condo             0.003065        -0.000554     0.019717  1.000000  0.226212   \n",
       "iptu              0.001200         0.005029     0.014656  0.226212  1.000000   \n",
       "Apartamento       0.034674         0.147497    -0.482170  0.009105 -0.001502   \n",
       "Casa             -0.031403        -0.137754     0.459136 -0.008624  0.002291   \n",
       "Outros           -0.013275        -0.045523     0.125672 -0.002495 -0.001870   \n",
       "Zona Central      0.022315         0.153639    -0.075256 -0.003553 -0.002438   \n",
       "Zona Norte       -0.011112         0.030753    -0.158553 -0.013453 -0.008400   \n",
       "Zona Oeste        0.007518        -0.012434     0.192466 -0.001055 -0.000428   \n",
       "Zona Sul         -0.004333        -0.055540    -0.051962  0.014474  0.008835   \n",
       "\n",
       "                 Apartamento      Casa    Outros  Zona Central  Zona Norte  \\\n",
       "bathrooms          -0.275458  0.343042 -0.140183     -0.097368   -0.162497   \n",
       "bedrooms           -0.258339  0.349962 -0.205608     -0.123732   -0.111712   \n",
       "floors              0.153947 -0.142090 -0.051946      0.126044   -0.016926   \n",
       "parkingSpaces      -0.252746  0.293326 -0.072359     -0.086437   -0.109957   \n",
       "suites             -0.236217  0.282221 -0.088834     -0.084417   -0.230317   \n",
       "unitFloor           0.034674 -0.031403 -0.013275      0.022315   -0.011112   \n",
       "unitsOnTheFloor     0.147497 -0.137754 -0.045523      0.153639    0.030753   \n",
       "usableAreas        -0.482170  0.459136  0.125672     -0.075256   -0.158553   \n",
       "condo               0.009105 -0.008624 -0.002495     -0.003553   -0.013453   \n",
       "iptu               -0.001502  0.002291 -0.001870     -0.002438   -0.008400   \n",
       "Apartamento         1.000000 -0.932270 -0.313032      0.034073    0.010312   \n",
       "Casa               -0.932270  1.000000 -0.051751     -0.041823   -0.007961   \n",
       "Outros             -0.313032 -0.051751  1.000000      0.015738   -0.007568   \n",
       "Zona Central        0.034073 -0.041823  0.015738      1.000000   -0.061835   \n",
       "Zona Norte          0.010312 -0.007961 -0.007568     -0.061835    1.000000   \n",
       "Zona Oeste         -0.176033  0.178640  0.016960     -0.123834   -0.522996   \n",
       "Zona Sul            0.180288 -0.183298 -0.016476     -0.073014   -0.308366   \n",
       "\n",
       "                 Zona Oeste  Zona Sul  \n",
       "bathrooms          0.242345 -0.098752  \n",
       "bedrooms           0.163822 -0.049433  \n",
       "floors            -0.031750  0.017402  \n",
       "parkingSpaces      0.267990 -0.178807  \n",
       "suites             0.327546 -0.136398  \n",
       "unitFloor          0.007518 -0.004333  \n",
       "unitsOnTheFloor   -0.012434 -0.055540  \n",
       "usableAreas        0.192466 -0.051962  \n",
       "condo             -0.001055  0.014474  \n",
       "iptu              -0.000428  0.008835  \n",
       "Apartamento       -0.176033  0.180288  \n",
       "Casa               0.178640 -0.183298  \n",
       "Outros             0.016960 -0.016476  \n",
       "Zona Central      -0.123834 -0.073014  \n",
       "Zona Norte        -0.522996 -0.308366  \n",
       "Zona Oeste         1.000000 -0.617551  \n",
       "Zona Sul          -0.617551  1.000000  "
      ]
     },
     "execution_count": 42,
     "metadata": {},
     "output_type": "execute_result"
    }
   ],
   "source": [
    "dataframe_correlacao = pd.DataFrame(correlacao.toArray(), columns=X, index=X)\n",
    "\n",
    "dataframe_correlacao"
   ]
  },
  {
   "cell_type": "code",
   "execution_count": 48,
   "metadata": {},
   "outputs": [
    {
     "data": {
      "text/plain": [
       "<Axes: >"
      ]
     },
     "execution_count": 48,
     "metadata": {},
     "output_type": "execute_result"
    },
    {
     "data": {
      "image/png": "[encoded data removed]",
      "text/plain": [
       "<Figure size 1200x1000 with 2 Axes>"
      ]
     },
     "metadata": {},
     "output_type": "display_data"
    }
   ],
   "source": [
    "plt.figure(figsize=(12, 10))\n",
    "paleta = sns.color_palette('light:salmon', as_cmap=True)\n",
    "sns.heatmap(dataframe_correlacao.round(1), annot=True, cmap=paleta)"
   ]
  },
  {
   "cell_type": "markdown",
   "metadata": {},
   "source": [
    "# previsão"
   ]
  },
  {
   "cell_type": "code",
   "execution_count": 50,
   "metadata": {},
   "outputs": [],
   "source": [
    "treino, teste = dataset_prep.randomSplit([0.7, 0.3], seed = 348)"
   ]
  },
  {
   "cell_type": "code",
   "execution_count": 51,
   "metadata": {},
   "outputs": [
    {
     "name": "stderr",
     "output_type": "stream",
     "text": [
      "                                                                                \r"
     ]
    },
    {
     "data": {
      "text/plain": [
       "48629"
      ]
     },
     "execution_count": 51,
     "metadata": {},
     "output_type": "execute_result"
    }
   ],
   "source": [
    "treino.count()"
   ]
  },
  {
   "cell_type": "code",
   "execution_count": 52,
   "metadata": {},
   "outputs": [
    {
     "name": "stderr",
     "output_type": "stream",
     "text": [
      "                                                                                \r"
     ]
    },
    {
     "data": {
      "text/plain": [
       "20810"
      ]
     },
     "execution_count": 52,
     "metadata": {},
     "output_type": "execute_result"
    }
   ],
   "source": [
    "teste.count()"
   ]
  },
  {
   "cell_type": "code",
   "execution_count": 53,
   "metadata": {},
   "outputs": [],
   "source": [
    "lr = LinearRegression()"
   ]
  },
  {
   "cell_type": "code",
   "execution_count": 54,
   "metadata": {},
   "outputs": [
    {
     "name": "stderr",
     "output_type": "stream",
     "text": [
      "24/11/23 19:12:43 WARN Instrumentation: [d803b1b9] regParam is zero, which might cause numerical instability and overfitting.\n",
      "24/11/23 19:12:45 WARN Instrumentation: [d803b1b9] Cholesky solver failed due to singular covariance matrix. Retrying with Quasi-Newton solver.\n",
      "                                                                                \r"
     ]
    }
   ],
   "source": [
    "modelo_lr = lr.fit(treino)"
   ]
  },
  {
   "cell_type": "code",
   "execution_count": 55,
   "metadata": {},
   "outputs": [],
   "source": [
    "previsoes_lr_treino = modelo_lr.transform(treino)"
   ]
  },
  {
   "cell_type": "code",
   "execution_count": 57,
   "metadata": {},
   "outputs": [
    {
     "name": "stderr",
     "output_type": "stream",
     "text": [
      "[Stage 207:>                                                        (0 + 1) / 1]\r"
     ]
    },
    {
     "name": "stdout",
     "output_type": "stream",
     "text": [
      "+--------------------------------------------------------------------------+--------+------------------+\n",
      "|features                                                                  |label   |prediction        |\n",
      "+--------------------------------------------------------------------------+--------+------------------+\n",
      "|(17,[0,1,2,3,4,5,6,7,10,13],[1.0,3.0,20.0,1.0,1.0,19.0,19.0,31.0,1.0,1.0])|260000.0|460837.15619804134|\n",
      "|(17,[0,1,2,3,4,5,6,7,10,13],[2.0,3.0,20.0,1.0,2.0,14.0,8.0,70.0,1.0,1.0]) |500000.0|1150566.3763554913|\n",
      "|(17,[0,1,2,3,4,5,6,7,10,14],[1.0,1.0,5.0,1.0,1.0,3.0,6.0,34.0,1.0,1.0])   |308615.0|105171.04244291381|\n",
      "|(17,[0,1,2,3,4,5,6,7,10,14],[1.0,1.0,14.0,1.0,1.0,14.0,10.0,43.0,1.0,1.0])|279000.0|114847.09746510017|\n",
      "|(17,[0,1,2,3,4,5,6,7,10,14],[1.0,2.0,8.0,2.0,1.0,7.0,8.0,103.0,1.0,1.0])  |350000.0|615537.6072385183 |\n",
      "|(17,[0,1,2,3,4,5,6,7,10,14],[1.0,2.0,14.0,1.0,1.0,3.0,8.0,66.0,1.0,1.0])  |545000.0|353519.98139366385|\n",
      "|(17,[0,1,2,3,4,5,6,7,10,14],[1.0,3.0,10.0,1.0,1.0,3.0,12.0,70.0,1.0,1.0]) |449000.0|415070.1353326495 |\n",
      "|(17,[0,1,2,3,4,5,6,7,10,14],[1.0,3.0,14.0,1.0,1.0,7.0,6.0,66.0,1.0,1.0])  |479000.0|475401.1980024657 |\n",
      "|(17,[0,1,2,3,4,5,6,7,10,14],[2.0,1.0,2.0,3.0,1.0,1.0,1.0,91.0,1.0,1.0])   |420000.0|672863.304479925  |\n",
      "|(17,[0,1,2,3,4,5,6,7,10,14],[2.0,2.0,2.0,1.0,1.0,1.0,1.0,70.0,1.0,1.0])   |265000.0|519479.13566917944|\n",
      "+--------------------------------------------------------------------------+--------+------------------+\n",
      "only showing top 10 rows\n",
      "\n"
     ]
    },
    {
     "name": "stderr",
     "output_type": "stream",
     "text": [
      "                                                                                \r"
     ]
    }
   ],
   "source": [
    "previsoes_lr_treino.show(10, False)"
   ]
  },
  {
   "cell_type": "markdown",
   "metadata": {},
   "source": [
    "# metricas"
   ]
  },
  {
   "cell_type": "code",
   "execution_count": 58,
   "metadata": {},
   "outputs": [],
   "source": [
    "resumo_treino = modelo_lr.summary"
   ]
  },
  {
   "cell_type": "code",
   "execution_count": 59,
   "metadata": {},
   "outputs": [
    {
     "data": {
      "text/plain": [
       "0.6641481421947324"
      ]
     },
     "execution_count": 59,
     "metadata": {},
     "output_type": "execute_result"
    }
   ],
   "source": [
    "resumo_treino.r2"
   ]
  },
  {
   "cell_type": "code",
   "execution_count": 60,
   "metadata": {},
   "outputs": [
    {
     "data": {
      "text/plain": [
       "807879.1435829273"
      ]
     },
     "execution_count": 60,
     "metadata": {},
     "output_type": "execute_result"
    }
   ],
   "source": [
    "resumo_treino.rootMeanSquaredError"
   ]
  },
  {
   "cell_type": "code",
   "execution_count": 61,
   "metadata": {},
   "outputs": [
    {
     "name": "stderr",
     "output_type": "stream",
     "text": [
      "                                                                                \r"
     ]
    }
   ],
   "source": [
    "resumo_teste = modelo_lr.evaluate(teste)"
   ]
  },
  {
   "cell_type": "code",
   "execution_count": 62,
   "metadata": {},
   "outputs": [
    {
     "data": {
      "text/plain": [
       "0.6610668289169686"
      ]
     },
     "execution_count": 62,
     "metadata": {},
     "output_type": "execute_result"
    }
   ],
   "source": [
    "resumo_teste.r2"
   ]
  },
  {
   "cell_type": "code",
   "execution_count": 63,
   "metadata": {},
   "outputs": [
    {
     "data": {
      "text/plain": [
       "807451.9598870715"
      ]
     },
     "execution_count": 63,
     "metadata": {},
     "output_type": "execute_result"
    }
   ],
   "source": [
    "resumo_teste.rootMeanSquaredError"
   ]
  },
  {
   "cell_type": "markdown",
   "metadata": {},
   "source": [
    "## tabela resumo regressão linear"
   ]
  },
  {
   "cell_type": "code",
   "execution_count": 64,
   "metadata": {},
   "outputs": [
    {
     "name": "stdout",
     "output_type": "stream",
     "text": [
      "Linear Regression\n",
      "==============================\n",
      "Dados de Treino\n",
      "==============================\n",
      "R²: 0.664148\n",
      "RMSE: 807879.143583\n",
      "\n",
      "==============================\n",
      "Dados de Teste\n",
      "==============================\n",
      "R²: 0.661067\n",
      "RMSE: 807451.959887\n"
     ]
    }
   ],
   "source": [
    "print('Linear Regression')\n",
    "print(\"=\"*30)\n",
    "print(\"Dados de Treino\")\n",
    "print(\"=\"*30)\n",
    "print(\"R²: %f\" % resumo_treino.r2)\n",
    "print(\"RMSE: %f\" % resumo_treino.rootMeanSquaredError)\n",
    "print(\"\")\n",
    "print(\"=\"*30)\n",
    "print(\"Dados de Teste\")\n",
    "print(\"=\"*30)\n",
    "print(\"R²: %f\" % resumo_teste.r2)\n",
    "print(\"RMSE: %f\" % resumo_teste.rootMeanSquaredError)"
   ]
  },
  {
   "cell_type": "markdown",
   "metadata": {},
   "source": [
    "# arvore de decisao - regressao"
   ]
  },
  {
   "cell_type": "markdown",
   "metadata": {},
   "source": [
    "## previsao"
   ]
  },
  {
   "cell_type": "code",
   "execution_count": 66,
   "metadata": {},
   "outputs": [],
   "source": [
    "dtr = DecisionTreeRegressor(seed=348, maxDepth=7)"
   ]
  },
  {
   "cell_type": "code",
   "execution_count": 67,
   "metadata": {},
   "outputs": [
    {
     "name": "stderr",
     "output_type": "stream",
     "text": [
      "                                                                                \r"
     ]
    }
   ],
   "source": [
    "modelo_dtr = dtr.fit(treino)"
   ]
  },
  {
   "cell_type": "code",
   "execution_count": 68,
   "metadata": {},
   "outputs": [],
   "source": [
    "previsoes_dtr_treino = modelo_dtr.transform(treino)"
   ]
  },
  {
   "cell_type": "code",
   "execution_count": 70,
   "metadata": {},
   "outputs": [
    {
     "name": "stderr",
     "output_type": "stream",
     "text": [
      "[Stage 276:>                                                        (0 + 1) / 1]\r"
     ]
    },
    {
     "name": "stdout",
     "output_type": "stream",
     "text": [
      "+--------------------------------------------------------------------------+--------+------------------+\n",
      "|features                                                                  |label   |prediction        |\n",
      "+--------------------------------------------------------------------------+--------+------------------+\n",
      "|(17,[0,1,2,3,4,5,6,7,10,13],[1.0,3.0,20.0,1.0,1.0,19.0,19.0,31.0,1.0,1.0])|260000.0|345551.0194658216 |\n",
      "|(17,[0,1,2,3,4,5,6,7,10,13],[2.0,3.0,20.0,1.0,2.0,14.0,8.0,70.0,1.0,1.0]) |500000.0|474957.92091603053|\n",
      "|(17,[0,1,2,3,4,5,6,7,10,14],[1.0,1.0,5.0,1.0,1.0,3.0,6.0,34.0,1.0,1.0])   |308615.0|345551.0194658216 |\n",
      "|(17,[0,1,2,3,4,5,6,7,10,14],[1.0,1.0,14.0,1.0,1.0,14.0,10.0,43.0,1.0,1.0])|279000.0|345551.0194658216 |\n",
      "|(17,[0,1,2,3,4,5,6,7,10,14],[1.0,2.0,8.0,2.0,1.0,7.0,8.0,103.0,1.0,1.0])  |350000.0|834815.7186287193 |\n",
      "|(17,[0,1,2,3,4,5,6,7,10,14],[1.0,2.0,14.0,1.0,1.0,3.0,8.0,66.0,1.0,1.0])  |545000.0|474957.92091603053|\n",
      "|(17,[0,1,2,3,4,5,6,7,10,14],[1.0,3.0,10.0,1.0,1.0,3.0,12.0,70.0,1.0,1.0]) |449000.0|474957.92091603053|\n",
      "|(17,[0,1,2,3,4,5,6,7,10,14],[1.0,3.0,14.0,1.0,1.0,7.0,6.0,66.0,1.0,1.0])  |479000.0|474957.92091603053|\n",
      "|(17,[0,1,2,3,4,5,6,7,10,14],[2.0,1.0,2.0,3.0,1.0,1.0,1.0,91.0,1.0,1.0])   |420000.0|585355.5001198753 |\n",
      "|(17,[0,1,2,3,4,5,6,7,10,14],[2.0,2.0,2.0,1.0,1.0,1.0,1.0,70.0,1.0,1.0])   |265000.0|474957.92091603053|\n",
      "+--------------------------------------------------------------------------+--------+------------------+\n",
      "only showing top 10 rows\n",
      "\n"
     ]
    },
    {
     "name": "stderr",
     "output_type": "stream",
     "text": [
      "                                                                                \r"
     ]
    }
   ],
   "source": [
    "previsoes_dtr_treino.show(10, False)"
   ]
  },
  {
   "cell_type": "markdown",
   "metadata": {},
   "source": [
    "## metricas"
   ]
  },
  {
   "cell_type": "code",
   "execution_count": 78,
   "metadata": {},
   "outputs": [
    {
     "name": "stderr",
     "output_type": "stream",
     "text": [
      "                                                                                \r"
     ]
    },
    {
     "name": "stdout",
     "output_type": "stream",
     "text": [
      "0.7946827084373824\n"
     ]
    },
    {
     "name": "stderr",
     "output_type": "stream",
     "text": [
      "[Stage 406:==========================================>              (3 + 1) / 4]\r"
     ]
    },
    {
     "name": "stdout",
     "output_type": "stream",
     "text": [
      "631662.772573882\n"
     ]
    },
    {
     "name": "stderr",
     "output_type": "stream",
     "text": [
      "                                                                                \r"
     ]
    }
   ],
   "source": [
    "evaluator = RegressionEvaluator()\n",
    "\n",
    "print(evaluator.evaluate(previsoes_dtr_treino, {evaluator.metricName: 'r2'}))\n",
    "print(evaluator.evaluate(previsoes_dtr_treino, {evaluator.metricName: 'rmse'}))"
   ]
  },
  {
   "cell_type": "code",
   "execution_count": 79,
   "metadata": {},
   "outputs": [],
   "source": [
    "previsoes_dtr_teste = modelo_dtr.transform(teste)"
   ]
  },
  {
   "cell_type": "code",
   "execution_count": 80,
   "metadata": {},
   "outputs": [
    {
     "name": "stderr",
     "output_type": "stream",
     "text": [
      "[Stage 419:>                                                        (0 + 1) / 1]\r"
     ]
    },
    {
     "name": "stdout",
     "output_type": "stream",
     "text": [
      "+-------------------------------------------------------------------------+--------+-----------------+\n",
      "|features                                                                 |label   |prediction       |\n",
      "+-------------------------------------------------------------------------+--------+-----------------+\n",
      "|(17,[0,1,2,3,4,5,6,7,10,14],[1.0,2.0,6.0,1.0,1.0,5.0,10.0,50.0,1.0,1.0]) |199000.0|345551.0194658216|\n",
      "|(17,[0,1,2,3,4,5,6,7,10,14],[2.0,2.0,2.0,2.0,1.0,2.0,1.0,115.0,1.0,1.0]) |490000.0|834815.7186287193|\n",
      "|(17,[0,1,2,3,4,5,6,7,10,14],[2.0,2.0,5.0,1.0,1.0,4.0,5.0,59.0,1.0,1.0])  |190000.0|345551.0194658216|\n",
      "|(17,[0,1,2,3,4,5,6,7,10,14],[2.0,2.0,5.0,1.0,2.0,3.0,4.0,80.0,1.0,1.0])  |600000.0|585355.5001198753|\n",
      "|(17,[0,1,2,3,4,5,6,7,10,14],[2.0,2.0,8.0,2.0,1.0,8.0,4.0,125.0,1.0,1.0]) |679000.0|834815.7186287193|\n",
      "|(17,[0,1,2,3,4,5,6,7,10,14],[2.0,2.0,9.0,1.0,1.0,1.0,8.0,52.0,1.0,1.0])  |333000.0|345551.0194658216|\n",
      "|(17,[0,1,2,3,4,5,6,7,10,14],[2.0,2.0,10.0,1.0,2.0,10.0,8.0,78.0,1.0,1.0])|880000.0|585355.5001198753|\n",
      "|(17,[0,1,2,3,4,5,6,7,10,14],[2.0,2.0,13.0,1.0,1.0,3.0,12.0,52.0,1.0,1.0])|300000.0|345551.0194658216|\n",
      "|(17,[0,1,2,3,4,5,6,7,10,14],[2.0,2.0,14.0,1.0,1.0,8.0,8.0,55.0,1.0,1.0]) |371700.0|345551.0194658216|\n",
      "|(17,[0,1,2,3,4,5,6,7,10,14],[2.0,2.0,17.0,1.0,2.0,1.0,6.0,91.0,1.0,1.0]) |956930.0|585355.5001198753|\n",
      "+-------------------------------------------------------------------------+--------+-----------------+\n",
      "only showing top 10 rows\n",
      "\n"
     ]
    },
    {
     "name": "stderr",
     "output_type": "stream",
     "text": [
      "                                                                                \r"
     ]
    }
   ],
   "source": [
    "previsoes_dtr_teste.show(10, False)"
   ]
  },
  {
   "cell_type": "code",
   "execution_count": 81,
   "metadata": {},
   "outputs": [
    {
     "name": "stdout",
     "output_type": "stream",
     "text": [
      "Decision Tree Regression\n",
      "==============================\n",
      "Dados de Treino\n",
      "==============================\n"
     ]
    },
    {
     "name": "stderr",
     "output_type": "stream",
     "text": [
      "                                                                                \r"
     ]
    },
    {
     "name": "stdout",
     "output_type": "stream",
     "text": [
      "R²: 0.794683\n"
     ]
    },
    {
     "name": "stderr",
     "output_type": "stream",
     "text": [
      "                                                                                \r"
     ]
    },
    {
     "name": "stdout",
     "output_type": "stream",
     "text": [
      "RMSE: 631662.772574\n",
      "\n",
      "==============================\n",
      "Dados de Teste\n",
      "==============================\n"
     ]
    },
    {
     "name": "stderr",
     "output_type": "stream",
     "text": [
      "[Stage 458:==========================================>              (3 + 1) / 4]\r"
     ]
    },
    {
     "name": "stdout",
     "output_type": "stream",
     "text": [
      "R²: 0.776549\n"
     ]
    },
    {
     "name": "stderr",
     "output_type": "stream",
     "text": [
      "[Stage 471:==========================================>              (3 + 1) / 4]\r"
     ]
    },
    {
     "name": "stdout",
     "output_type": "stream",
     "text": [
      "RMSE: 655617.854002\n"
     ]
    },
    {
     "name": "stderr",
     "output_type": "stream",
     "text": [
      "                                                                                \r"
     ]
    }
   ],
   "source": [
    "print('Decision Tree Regression')\n",
    "print(\"=\"*30)\n",
    "print(\"Dados de Treino\")\n",
    "print(\"=\"*30)\n",
    "print(\"R²: %f\" % evaluator.evaluate(previsoes_dtr_treino, {evaluator.metricName: \"r2\"}))\n",
    "print(\"RMSE: %f\" % evaluator.evaluate(previsoes_dtr_treino, {evaluator.metricName: \"rmse\"}))\n",
    "print(\"\")\n",
    "print(\"=\"*30)\n",
    "print(\"Dados de Teste\")\n",
    "print(\"=\"*30)\n",
    "print(\"R²: %f\" % evaluator.evaluate(previsoes_dtr_teste, {evaluator.metricName: \"r2\"}))\n",
    "print(\"RMSE: %f\" % evaluator.evaluate(previsoes_dtr_teste, {evaluator.metricName: \"rmse\"}))\n"
   ]
  },
  {
   "cell_type": "markdown",
   "metadata": {},
   "source": [
    "# random forest - regressao"
   ]
  },
  {
   "cell_type": "markdown",
   "metadata": {},
   "source": [
    "## previsao"
   ]
  },
  {
   "cell_type": "code",
   "execution_count": 83,
   "metadata": {},
   "outputs": [],
   "source": [
    "rfr = RandomForestRegressor(seed=348, maxDepth=7, numTrees=3)"
   ]
  },
  {
   "cell_type": "code",
   "execution_count": 84,
   "metadata": {},
   "outputs": [
    {
     "name": "stderr",
     "output_type": "stream",
     "text": [
      "                                                                                \r"
     ]
    }
   ],
   "source": [
    "modelo_rfr = rfr.fit(treino)"
   ]
  },
  {
   "cell_type": "code",
   "execution_count": 85,
   "metadata": {},
   "outputs": [],
   "source": [
    "previsoes_rfr_treino = modelo_rfr.transform(treino)"
   ]
  },
  {
   "cell_type": "code",
   "execution_count": 86,
   "metadata": {},
   "outputs": [
    {
     "name": "stderr",
     "output_type": "stream",
     "text": [
      "[Stage 514:>                                                        (0 + 1) / 1]\r"
     ]
    },
    {
     "name": "stdout",
     "output_type": "stream",
     "text": [
      "+--------------------------------------------------------------------------+--------+-----------------+\n",
      "|features                                                                  |label   |prediction       |\n",
      "+--------------------------------------------------------------------------+--------+-----------------+\n",
      "|(17,[0,1,2,3,4,5,6,7,10,13],[1.0,3.0,20.0,1.0,1.0,19.0,19.0,31.0,1.0,1.0])|260000.0|402204.1336853059|\n",
      "|(17,[0,1,2,3,4,5,6,7,10,13],[2.0,3.0,20.0,1.0,2.0,14.0,8.0,70.0,1.0,1.0]) |500000.0|467325.300971562 |\n",
      "|(17,[0,1,2,3,4,5,6,7,10,14],[1.0,1.0,5.0,1.0,1.0,3.0,6.0,34.0,1.0,1.0])   |308615.0|402204.1336853059|\n",
      "|(17,[0,1,2,3,4,5,6,7,10,14],[1.0,1.0,14.0,1.0,1.0,14.0,10.0,43.0,1.0,1.0])|279000.0|402204.1336853059|\n",
      "|(17,[0,1,2,3,4,5,6,7,10,14],[1.0,2.0,8.0,2.0,1.0,7.0,8.0,103.0,1.0,1.0])  |350000.0|646029.7941421948|\n",
      "|(17,[0,1,2,3,4,5,6,7,10,14],[1.0,2.0,14.0,1.0,1.0,3.0,8.0,66.0,1.0,1.0])  |545000.0|402204.1336853059|\n",
      "|(17,[0,1,2,3,4,5,6,7,10,14],[1.0,3.0,10.0,1.0,1.0,3.0,12.0,70.0,1.0,1.0]) |449000.0|467325.300971562 |\n",
      "|(17,[0,1,2,3,4,5,6,7,10,14],[1.0,3.0,14.0,1.0,1.0,7.0,6.0,66.0,1.0,1.0])  |479000.0|402204.1336853059|\n",
      "|(17,[0,1,2,3,4,5,6,7,10,14],[2.0,1.0,2.0,3.0,1.0,1.0,1.0,91.0,1.0,1.0])   |420000.0|467325.300971562 |\n",
      "|(17,[0,1,2,3,4,5,6,7,10,14],[2.0,2.0,2.0,1.0,1.0,1.0,1.0,70.0,1.0,1.0])   |265000.0|467325.300971562 |\n",
      "+--------------------------------------------------------------------------+--------+-----------------+\n",
      "only showing top 10 rows\n",
      "\n"
     ]
    },
    {
     "name": "stderr",
     "output_type": "stream",
     "text": [
      "                                                                                \r"
     ]
    }
   ],
   "source": [
    "previsoes_rfr_treino.show(10, False)"
   ]
  },
  {
   "cell_type": "markdown",
   "metadata": {},
   "source": [
    "## metricas"
   ]
  },
  {
   "cell_type": "code",
   "execution_count": 87,
   "metadata": {},
   "outputs": [
    {
     "name": "stderr",
     "output_type": "stream",
     "text": [
      "[Stage 527:==========================================>              (3 + 1) / 4]\r"
     ]
    },
    {
     "name": "stdout",
     "output_type": "stream",
     "text": [
      "0.7852152987778689\n"
     ]
    },
    {
     "name": "stderr",
     "output_type": "stream",
     "text": [
      "[Stage 540:==========================================>              (3 + 1) / 4]\r"
     ]
    },
    {
     "name": "stdout",
     "output_type": "stream",
     "text": [
      "646061.9902087164\n"
     ]
    },
    {
     "name": "stderr",
     "output_type": "stream",
     "text": [
      "                                                                                \r"
     ]
    }
   ],
   "source": [
    "print(evaluator.evaluate(previsoes_rfr_treino, {evaluator.metricName: \"r2\"}))\n",
    "print(evaluator.evaluate(previsoes_rfr_treino, {evaluator.metricName: \"rmse\"}))"
   ]
  },
  {
   "cell_type": "code",
   "execution_count": 88,
   "metadata": {},
   "outputs": [],
   "source": [
    "previsoes_rfr_teste = modelo_rfr.transform(teste)"
   ]
  },
  {
   "cell_type": "code",
   "execution_count": 89,
   "metadata": {},
   "outputs": [
    {
     "name": "stderr",
     "output_type": "stream",
     "text": [
      "[Stage 553:>                                                        (0 + 1) / 1]\r"
     ]
    },
    {
     "name": "stdout",
     "output_type": "stream",
     "text": [
      "+-------------------------------------------------------------------------+--------+-----------------+\n",
      "|features                                                                 |label   |prediction       |\n",
      "+-------------------------------------------------------------------------+--------+-----------------+\n",
      "|(17,[0,1,2,3,4,5,6,7,10,14],[1.0,2.0,6.0,1.0,1.0,5.0,10.0,50.0,1.0,1.0]) |199000.0|402204.1336853059|\n",
      "|(17,[0,1,2,3,4,5,6,7,10,14],[2.0,2.0,2.0,2.0,1.0,2.0,1.0,115.0,1.0,1.0]) |490000.0|646029.7941421948|\n",
      "|(17,[0,1,2,3,4,5,6,7,10,14],[2.0,2.0,5.0,1.0,1.0,4.0,5.0,59.0,1.0,1.0])  |190000.0|402204.1336853059|\n",
      "|(17,[0,1,2,3,4,5,6,7,10,14],[2.0,2.0,5.0,1.0,2.0,3.0,4.0,80.0,1.0,1.0])  |600000.0|467325.300971562 |\n",
      "|(17,[0,1,2,3,4,5,6,7,10,14],[2.0,2.0,8.0,2.0,1.0,8.0,4.0,125.0,1.0,1.0]) |679000.0|646029.7941421948|\n",
      "|(17,[0,1,2,3,4,5,6,7,10,14],[2.0,2.0,9.0,1.0,1.0,1.0,8.0,52.0,1.0,1.0])  |333000.0|402204.1336853059|\n",
      "|(17,[0,1,2,3,4,5,6,7,10,14],[2.0,2.0,10.0,1.0,2.0,10.0,8.0,78.0,1.0,1.0])|880000.0|467325.300971562 |\n",
      "|(17,[0,1,2,3,4,5,6,7,10,14],[2.0,2.0,13.0,1.0,1.0,3.0,12.0,52.0,1.0,1.0])|300000.0|402204.1336853059|\n",
      "|(17,[0,1,2,3,4,5,6,7,10,14],[2.0,2.0,14.0,1.0,1.0,8.0,8.0,55.0,1.0,1.0]) |371700.0|402204.1336853059|\n",
      "|(17,[0,1,2,3,4,5,6,7,10,14],[2.0,2.0,17.0,1.0,2.0,1.0,6.0,91.0,1.0,1.0]) |956930.0|467325.300971562 |\n",
      "+-------------------------------------------------------------------------+--------+-----------------+\n",
      "only showing top 10 rows\n",
      "\n"
     ]
    },
    {
     "name": "stderr",
     "output_type": "stream",
     "text": [
      "                                                                                \r"
     ]
    }
   ],
   "source": [
    "previsoes_rfr_teste.show(10, False)"
   ]
  },
  {
   "cell_type": "code",
   "execution_count": 90,
   "metadata": {},
   "outputs": [
    {
     "name": "stdout",
     "output_type": "stream",
     "text": [
      "Random Forest Regression\n",
      "==============================\n",
      "Dados de Treino\n",
      "==============================\n"
     ]
    },
    {
     "name": "stderr",
     "output_type": "stream",
     "text": [
      "                                                                                \r"
     ]
    },
    {
     "name": "stdout",
     "output_type": "stream",
     "text": [
      "R²: 0.785215\n"
     ]
    },
    {
     "name": "stderr",
     "output_type": "stream",
     "text": [
      "                                                                                \r"
     ]
    },
    {
     "name": "stdout",
     "output_type": "stream",
     "text": [
      "RMSE: 646061.990209\n",
      "\n",
      "==============================\n",
      "Dados de Teste\n",
      "==============================\n"
     ]
    },
    {
     "name": "stderr",
     "output_type": "stream",
     "text": [
      "                                                                                \r"
     ]
    },
    {
     "name": "stdout",
     "output_type": "stream",
     "text": [
      "R²: 0.772139\n"
     ]
    },
    {
     "name": "stderr",
     "output_type": "stream",
     "text": [
      "[Stage 605:==========================================>              (3 + 1) / 4]\r"
     ]
    },
    {
     "name": "stdout",
     "output_type": "stream",
     "text": [
      "RMSE: 662055.177308\n"
     ]
    },
    {
     "name": "stderr",
     "output_type": "stream",
     "text": [
      "                                                                                \r"
     ]
    }
   ],
   "source": [
    "print('Random Forest Regression')\n",
    "print(\"=\"*30)\n",
    "print(\"Dados de Treino\")\n",
    "print(\"=\"*30)\n",
    "print(\"R²: %f\" % evaluator.evaluate(previsoes_rfr_treino, {evaluator.metricName: \"r2\"}))\n",
    "print(\"RMSE: %f\" % evaluator.evaluate(previsoes_rfr_treino, {evaluator.metricName: \"rmse\"}))\n",
    "print(\"\")\n",
    "print(\"=\"*30)\n",
    "print(\"Dados de Teste\")\n",
    "print(\"=\"*30)\n",
    "print(\"R²: %f\" % evaluator.evaluate(previsoes_rfr_teste, {evaluator.metricName: \"r2\"}))\n",
    "print(\"RMSE: %f\" % evaluator.evaluate(previsoes_rfr_teste, {evaluator.metricName: \"rmse\"}))"
   ]
  },
  {
   "cell_type": "markdown",
   "metadata": {},
   "source": [
    "# otimizaçao"
   ]
  },
  {
   "cell_type": "markdown",
   "metadata": {},
   "source": [
    "## arvore de decisao"
   ]
  },
  {
   "cell_type": "code",
   "execution_count": 92,
   "metadata": {},
   "outputs": [],
   "source": [
    "dtr = DecisionTreeRegressor()"
   ]
  },
  {
   "cell_type": "code",
   "execution_count": null,
   "metadata": {},
   "outputs": [],
   "source": [
    "grid = ParamGridBuilder().addGrid(dtr.maxDepth, [2, 5, 10])\\\n",
    "                         .addGrid(dtr.maxBins, [10, 32, 45])\\\n",
    "                         .build()"
   ]
  },
  {
   "cell_type": "code",
   "execution_count": 95,
   "metadata": {},
   "outputs": [],
   "source": [
    "evaluator = RegressionEvaluator()"
   ]
  },
  {
   "cell_type": "code",
   "execution_count": 96,
   "metadata": {},
   "outputs": [],
   "source": [
    "dtr_cv = CrossValidator(estimator=dtr, estimatorParamMaps=grid, evaluator=evaluator, numFolds=3, seed=348)"
   ]
  },
  {
   "cell_type": "code",
   "execution_count": 97,
   "metadata": {},
   "outputs": [
    {
     "name": "stderr",
     "output_type": "stream",
     "text": [
      "                                                                                \r"
     ]
    }
   ],
   "source": [
    "modelo_dtr_cv = dtr_cv.fit(treino)"
   ]
  },
  {
   "cell_type": "code",
   "execution_count": 98,
   "metadata": {},
   "outputs": [],
   "source": [
    "previsoes_dtr_cv_teste = modelo_dtr_cv.transform(teste)"
   ]
  },
  {
   "cell_type": "code",
   "execution_count": 99,
   "metadata": {},
   "outputs": [
    {
     "name": "stdout",
     "output_type": "stream",
     "text": [
      "Decision Tree Regression\n",
      "==============================\n",
      "Sem Cross Validation\n",
      "==============================\n"
     ]
    },
    {
     "name": "stderr",
     "output_type": "stream",
     "text": [
      "                                                                                \r"
     ]
    },
    {
     "name": "stdout",
     "output_type": "stream",
     "text": [
      "R²: 0.776549\n"
     ]
    },
    {
     "name": "stderr",
     "output_type": "stream",
     "text": [
      "                                                                                \r"
     ]
    },
    {
     "name": "stdout",
     "output_type": "stream",
     "text": [
      "RMSE: 655617.854002\n",
      "\n",
      "==============================\n",
      "Com Cross Validation\n",
      "==============================\n"
     ]
    },
    {
     "name": "stderr",
     "output_type": "stream",
     "text": [
      "                                                                                \r"
     ]
    },
    {
     "name": "stdout",
     "output_type": "stream",
     "text": [
      "R²: 0.804119\n"
     ]
    },
    {
     "name": "stderr",
     "output_type": "stream",
     "text": [
      "[Stage 1212:==========================================>             (3 + 1) / 4]\r"
     ]
    },
    {
     "name": "stdout",
     "output_type": "stream",
     "text": [
      "RMSE: 613840.886363\n"
     ]
    },
    {
     "name": "stderr",
     "output_type": "stream",
     "text": [
      "                                                                                \r"
     ]
    }
   ],
   "source": [
    "print('Decision Tree Regression')\n",
    "print(\"=\"*30)\n",
    "print(\"Sem Cross Validation\")\n",
    "print(\"=\"*30)\n",
    "print(\"R²: %f\" % evaluator.evaluate(previsoes_dtr_teste, {evaluator.metricName: \"r2\"}))\n",
    "print(\"RMSE: %f\" % evaluator.evaluate(previsoes_dtr_teste, {evaluator.metricName: \"rmse\"}))\n",
    "print(\"\")\n",
    "print(\"=\"*30)\n",
    "print(\"Com Cross Validation\")\n",
    "print(\"=\"*30)\n",
    "print(\"R²: %f\" % evaluator.evaluate(previsoes_dtr_cv_teste, {evaluator.metricName: \"r2\"}))\n",
    "print(\"RMSE: %f\" % evaluator.evaluate(previsoes_dtr_cv_teste, {evaluator.metricName: \"rmse\"}))"
   ]
  },
  {
   "cell_type": "markdown",
   "metadata": {},
   "source": [
    "## random forest"
   ]
  },
  {
   "cell_type": "code",
   "execution_count": 100,
   "metadata": {},
   "outputs": [],
   "source": [
    "rfr = RandomForestRegressor()"
   ]
  },
  {
   "cell_type": "code",
   "execution_count": 101,
   "metadata": {},
   "outputs": [],
   "source": [
    "grid = ParamGridBuilder().addGrid(rfr.numTrees, [10, 20, 30]) \\\n",
    "                         .addGrid(rfr.maxDepth, [5, 10]) \\\n",
    "                         .addGrid(rfr.maxBins, [10, 32, 45]) \\\n",
    "                         .build()\n"
   ]
  },
  {
   "cell_type": "code",
   "execution_count": 102,
   "metadata": {},
   "outputs": [],
   "source": [
    "evaluator = RegressionEvaluator()"
   ]
  },
  {
   "cell_type": "code",
   "execution_count": 103,
   "metadata": {},
   "outputs": [],
   "source": [
    "rfr_cv = CrossValidator(estimator=rfr, estimatorParamMaps=grid, evaluator=evaluator, numFolds=3)"
   ]
  },
  {
   "cell_type": "code",
   "execution_count": 104,
   "metadata": {},
   "outputs": [
    {
     "name": "stderr",
     "output_type": "stream",
     "text": [
      "24/11/23 20:08:18 WARN DAGScheduler: Broadcasting large task binary with size 1493.2 KiB\n",
      "24/11/23 20:08:22 WARN DAGScheduler: Broadcasting large task binary with size 1452.8 KiB\n",
      "24/11/23 20:08:26 WARN DAGScheduler: Broadcasting large task binary with size 1461.4 KiB\n",
      "24/11/23 20:08:35 WARN DAGScheduler: Broadcasting large task binary with size 1635.3 KiB\n",
      "24/11/23 20:08:36 WARN DAGScheduler: Broadcasting large task binary with size 2.7 MiB\n",
      "24/11/23 20:08:41 WARN DAGScheduler: Broadcasting large task binary with size 1600.8 KiB\n",
      "24/11/23 20:08:42 WARN DAGScheduler: Broadcasting large task binary with size 2.6 MiB\n",
      "24/11/23 20:08:47 WARN DAGScheduler: Broadcasting large task binary with size 1612.2 KiB\n",
      "24/11/23 20:08:47 WARN DAGScheduler: Broadcasting large task binary with size 2.6 MiB\n",
      "24/11/23 20:08:58 WARN DAGScheduler: Broadcasting large task binary with size 1337.2 KiB\n",
      "24/11/23 20:08:59 WARN DAGScheduler: Broadcasting large task binary with size 2.3 MiB\n",
      "24/11/23 20:09:00 WARN DAGScheduler: Broadcasting large task binary with size 3.9 MiB\n",
      "24/11/23 20:09:06 WARN DAGScheduler: Broadcasting large task binary with size 1335.5 KiB\n",
      "24/11/23 20:09:07 WARN DAGScheduler: Broadcasting large task binary with size 2.2 MiB\n",
      "24/11/23 20:09:08 WARN DAGScheduler: Broadcasting large task binary with size 3.8 MiB\n",
      "24/11/23 20:09:14 WARN DAGScheduler: Broadcasting large task binary with size 1339.4 KiB\n",
      "24/11/23 20:09:15 WARN DAGScheduler: Broadcasting large task binary with size 2.3 MiB\n",
      "24/11/23 20:09:17 WARN DAGScheduler: Broadcasting large task binary with size 3.8 MiB\n",
      "24/11/23 20:09:37 WARN DAGScheduler: Broadcasting large task binary with size 1449.5 KiB\n",
      "24/11/23 20:09:41 WARN DAGScheduler: Broadcasting large task binary with size 1434.2 KiB\n",
      "24/11/23 20:09:44 WARN DAGScheduler: Broadcasting large task binary with size 1439.6 KiB\n",
      "24/11/23 20:09:55 WARN DAGScheduler: Broadcasting large task binary with size 1606.2 KiB\n",
      "24/11/23 20:09:56 WARN DAGScheduler: Broadcasting large task binary with size 2.6 MiB\n",
      "24/11/23 20:10:00 WARN DAGScheduler: Broadcasting large task binary with size 1598.5 KiB\n",
      "24/11/23 20:10:02 WARN DAGScheduler: Broadcasting large task binary with size 2.6 MiB\n",
      "24/11/23 20:10:07 WARN DAGScheduler: Broadcasting large task binary with size 1606.1 KiB\n",
      "24/11/23 20:10:08 WARN DAGScheduler: Broadcasting large task binary with size 2.6 MiB\n",
      "24/11/23 20:10:20 WARN DAGScheduler: Broadcasting large task binary with size 1329.6 KiB\n",
      "24/11/23 20:10:21 WARN DAGScheduler: Broadcasting large task binary with size 2.3 MiB\n",
      "24/11/23 20:10:22 WARN DAGScheduler: Broadcasting large task binary with size 3.9 MiB\n",
      "24/11/23 20:10:28 WARN DAGScheduler: Broadcasting large task binary with size 1330.4 KiB\n",
      "24/11/23 20:10:29 WARN DAGScheduler: Broadcasting large task binary with size 2.2 MiB\n",
      "24/11/23 20:10:31 WARN DAGScheduler: Broadcasting large task binary with size 3.8 MiB\n",
      "24/11/23 20:10:37 WARN DAGScheduler: Broadcasting large task binary with size 1336.1 KiB\n",
      "24/11/23 20:10:38 WARN DAGScheduler: Broadcasting large task binary with size 2.3 MiB\n",
      "24/11/23 20:10:40 WARN DAGScheduler: Broadcasting large task binary with size 3.8 MiB\n",
      "24/11/23 20:11:03 WARN DAGScheduler: Broadcasting large task binary with size 1452.0 KiB\n",
      "24/11/23 20:11:07 WARN DAGScheduler: Broadcasting large task binary with size 1451.9 KiB\n",
      "24/11/23 20:11:11 WARN DAGScheduler: Broadcasting large task binary with size 1431.5 KiB\n",
      "24/11/23 20:11:19 WARN DAGScheduler: Broadcasting large task binary with size 1634.3 KiB\n",
      "24/11/23 20:11:20 WARN DAGScheduler: Broadcasting large task binary with size 2.7 MiB\n",
      "24/11/23 20:11:24 WARN DAGScheduler: Broadcasting large task binary with size 1627.2 KiB\n",
      "24/11/23 20:11:25 WARN DAGScheduler: Broadcasting large task binary with size 2.7 MiB\n",
      "24/11/23 20:11:31 WARN DAGScheduler: Broadcasting large task binary with size 1630.7 KiB\n",
      "24/11/23 20:11:32 WARN DAGScheduler: Broadcasting large task binary with size 2.7 MiB\n",
      "24/11/23 20:11:44 WARN DAGScheduler: Broadcasting large task binary with size 1339.5 KiB\n",
      "24/11/23 20:11:44 WARN DAGScheduler: Broadcasting large task binary with size 2.3 MiB\n",
      "24/11/23 20:11:46 WARN DAGScheduler: Broadcasting large task binary with size 3.9 MiB\n",
      "24/11/23 20:11:52 WARN DAGScheduler: Broadcasting large task binary with size 1338.3 KiB\n",
      "24/11/23 20:11:53 WARN DAGScheduler: Broadcasting large task binary with size 2.3 MiB\n",
      "24/11/23 20:11:54 WARN DAGScheduler: Broadcasting large task binary with size 3.9 MiB\n",
      "24/11/23 20:12:00 WARN DAGScheduler: Broadcasting large task binary with size 1335.9 KiB\n",
      "24/11/23 20:12:01 WARN DAGScheduler: Broadcasting large task binary with size 2.3 MiB\n",
      "24/11/23 20:12:03 WARN DAGScheduler: Broadcasting large task binary with size 3.9 MiB\n",
      "24/11/23 20:12:22 WARN DAGScheduler: Broadcasting large task binary with size 1343.1 KiB\n",
      "24/11/23 20:12:23 WARN DAGScheduler: Broadcasting large task binary with size 2.3 MiB\n",
      "24/11/23 20:12:25 WARN DAGScheduler: Broadcasting large task binary with size 4.0 MiB\n",
      "                                                                                \r"
     ]
    }
   ],
   "source": [
    "modelo_rfr_cv = rfr_cv.fit(treino)"
   ]
  },
  {
   "cell_type": "code",
   "execution_count": 105,
   "metadata": {},
   "outputs": [],
   "source": [
    "previsoes_rfr_cv_teste = modelo_rfr_cv.transform(teste)"
   ]
  },
  {
   "cell_type": "code",
   "execution_count": 106,
   "metadata": {},
   "outputs": [
    {
     "name": "stdout",
     "output_type": "stream",
     "text": [
      "Random Forest Regression\n",
      "==============================\n",
      "Sem Cross Validation\n",
      "==============================\n"
     ]
    },
    {
     "name": "stderr",
     "output_type": "stream",
     "text": [
      "                                                                                \r"
     ]
    },
    {
     "name": "stdout",
     "output_type": "stream",
     "text": [
      "R²: 0.772139\n"
     ]
    },
    {
     "name": "stderr",
     "output_type": "stream",
     "text": [
      "                                                                                \r"
     ]
    },
    {
     "name": "stdout",
     "output_type": "stream",
     "text": [
      "RMSE: 662055.177308\n",
      "\n",
      "==============================\n",
      "Com Cross Validation\n",
      "==============================\n"
     ]
    },
    {
     "name": "stderr",
     "output_type": "stream",
     "text": [
      "                                                                                \r"
     ]
    },
    {
     "name": "stdout",
     "output_type": "stream",
     "text": [
      "R²: 0.832962\n"
     ]
    },
    {
     "name": "stderr",
     "output_type": "stream",
     "text": [
      "[Stage 2458:==========================================>             (3 + 1) / 4]\r"
     ]
    },
    {
     "name": "stdout",
     "output_type": "stream",
     "text": [
      "RMSE: 566849.159010\n"
     ]
    },
    {
     "name": "stderr",
     "output_type": "stream",
     "text": [
      "                                                                                \r"
     ]
    }
   ],
   "source": [
    "print('Random Forest Regression')\n",
    "print(\"=\"*30)\n",
    "print(\"Sem Cross Validation\")\n",
    "print(\"=\"*30)\n",
    "print(\"R²: %f\" % evaluator.evaluate(previsoes_rfr_teste, {evaluator.metricName: \"r2\"}))\n",
    "print(\"RMSE: %f\" % evaluator.evaluate(previsoes_rfr_teste, {evaluator.metricName: \"rmse\"}))\n",
    "print(\"\")\n",
    "print(\"=\"*30)\n",
    "print(\"Com Cross Validation\")\n",
    "print(\"=\"*30)\n",
    "print(\"R²: %f\" % evaluator.evaluate(previsoes_rfr_cv_teste, {evaluator.metricName: \"r2\"}))\n",
    "print(\"RMSE: %f\" % evaluator.evaluate(previsoes_rfr_cv_teste, {evaluator.metricName: \"rmse\"}))"
   ]
  },
  {
   "cell_type": "markdown",
   "metadata": {},
   "source": [
    "# prevendo resultados"
   ]
  },
  {
   "cell_type": "code",
   "execution_count": 107,
   "metadata": {},
   "outputs": [
    {
     "name": "stderr",
     "output_type": "stream",
     "text": [
      "[Stage 2471:>                                                       (0 + 1) / 1]\r"
     ]
    },
    {
     "name": "stdout",
     "output_type": "stream",
     "text": [
      "+---------------+-----------+-----------+---------+--------+------+-------------+------+---------+---------------+-----------+------------------------+------------+-------+-----+-----+-----------+----+------+------------+----------+----------+--------+\n",
      "|customerID     |unit       |usage      |bathrooms|bedrooms|floors|parkingSpaces|suites|unitFloor|unitsOnTheFloor|usableAreas|neighborhood            |zone        |label  |condo|iptu |Apartamento|Casa|Outros|Zona Central|Zona Norte|Zona Oeste|Zona Sul|\n",
      "+---------------+-----------+-----------+---------+--------+------+-------------+------+---------+---------------+-----------+------------------------+------------+-------+-----+-----+-----------+----+------+------------+----------+----------+--------+\n",
      "|775564-BOJSMVON|Outros     |Residencial|0        |0       |0     |1            |0     |0        |0              |62         |Taquara                 |Zona Oeste  |45000.0|150.0|0.0  |0          |0   |1     |0           |0         |1         |0       |\n",
      "|660895-AUENKNYY|Apartamento|Residencial|1        |2       |0     |1            |0     |0        |0              |44         |Santíssimo              |Zona Oeste  |45000.0|120.0|0.0  |1          |0   |0     |0           |0         |1         |0       |\n",
      "|751522-JESYFEQL|Outros     |Residencial|0        |0       |0     |0            |0     |0        |0              |132        |Pedra de Guaratiba      |Zona Oeste  |50000.0|100.0|0.0  |0          |0   |1     |0           |0         |1         |0       |\n",
      "|568886-ZIBFOMCC|Apartamento|Residencial|2        |3       |3     |1            |1     |2        |4              |60         |Recreio dos Bandeirantes|Zona Oeste  |50000.0|400.0|120.0|1          |0   |0     |0           |0         |1         |0       |\n",
      "|526755-OBLTYTEN|Outros     |Residencial|0        |0       |0     |0            |0     |0        |0              |200        |Guaratiba               |Zona Oeste  |50000.0|0.0  |0.0  |0          |0   |1     |0           |0         |1         |0       |\n",
      "|792086-NWNQTDYL|Apartamento|Residencial|1        |1       |0     |1            |0     |0        |0              |33         |Jacarezinho             |Zona Norte  |45336.0|0.0  |0.0  |1          |0   |0     |0           |1         |0         |0       |\n",
      "|339622-MNZGLKTZ|Outros     |Residencial|0        |0       |0     |0            |0     |0        |0              |120        |Guaratiba               |Zona Oeste  |45000.0|0.0  |0.0  |0          |0   |1     |0           |0         |1         |0       |\n",
      "|952338-SVULQMXR|Outros     |Residencial|0        |0       |0     |0            |0     |0        |0              |468        |Santa Cruz              |Zona Oeste  |45000.0|0.0  |0.0  |0          |0   |1     |0           |0         |1         |0       |\n",
      "|570439-LDICQOXZ|Outros     |Residencial|0        |0       |0     |0            |0     |1        |0              |180        |Vargem Grande           |Zona Oeste  |50000.0|0.0  |0.0  |0          |0   |1     |0           |0         |1         |0       |\n",
      "|684023-YTBNKLLO|Outros     |Residencial|0        |0       |0     |0            |0     |0        |0              |128        |Bangu                   |Zona Oeste  |50000.0|0.0  |0.0  |0          |0   |1     |0           |0         |1         |0       |\n",
      "|629412-VKUMMAVR|Outros     |Residencial|0        |0       |0     |0            |0     |1        |0              |82         |Tanque                  |Zona Oeste  |45000.0|300.0|0.0  |0          |0   |1     |0           |0         |1         |0       |\n",
      "|951104-MACIAPIS|Apartamento|Residencial|2        |3       |20    |1            |1     |20       |19             |70         |Santo Cristo            |Zona Central|45000.0|350.0|120.0|1          |0   |0     |1           |0         |0         |0       |\n",
      "|375665-GHMFEZXX|Apartamento|Residencial|2        |3       |20    |1            |1     |20       |19             |70         |Santo Cristo            |Zona Central|50000.0|350.0|120.0|1          |0   |0     |1           |0         |0         |0       |\n",
      "|441711-LRTWHRUA|Apartamento|Residencial|1        |1       |0     |0            |0     |2        |0              |37         |Pedra de Guaratiba      |Zona Oeste  |50000.0|0.0  |0.0  |1          |0   |0     |0           |0         |1         |0       |\n",
      "|221946-ENAQETGD|Outros     |Residencial|0        |0       |0     |0            |0     |0        |0              |120        |Guaratiba               |Zona Oeste  |45020.0|0.0  |0.0  |0          |0   |1     |0           |0         |1         |0       |\n",
      "+---------------+-----------+-----------+---------+--------+------+-------------+------+---------+---------------+-----------+------------------------+------------+-------+-----+-----+-----------+----+------+------------+----------+----------+--------+\n",
      "only showing top 15 rows\n",
      "\n"
     ]
    },
    {
     "name": "stderr",
     "output_type": "stream",
     "text": [
      "                                                                                \r"
     ]
    }
   ],
   "source": [
    "dataset.show(15, False)"
   ]
  },
  {
   "cell_type": "code",
   "execution_count": 108,
   "metadata": {},
   "outputs": [
    {
     "data": {
      "text/plain": [
       "['bathrooms',\n",
       " 'bedrooms',\n",
       " 'floors',\n",
       " 'parkingSpaces',\n",
       " 'suites',\n",
       " 'unitFloor',\n",
       " 'unitsOnTheFloor',\n",
       " 'usableAreas',\n",
       " 'condo',\n",
       " 'iptu',\n",
       " 'Apartamento',\n",
       " 'Casa',\n",
       " 'Outros',\n",
       " 'Zona Central',\n",
       " 'Zona Norte',\n",
       " 'Zona Oeste',\n",
       " 'Zona Sul']"
      ]
     },
     "execution_count": 108,
     "metadata": {},
     "output_type": "execute_result"
    }
   ],
   "source": [
    "X"
   ]
  },
  {
   "cell_type": "code",
   "execution_count": 110,
   "metadata": {},
   "outputs": [],
   "source": [
    "novo_imovel = [{\n",
    "    'bathrooms': 3,\n",
    "    'bedrooms': 2,\n",
    "    'floors': 1,\n",
    "    'parkingSpaces': 1,\n",
    "    'suites': 2,\n",
    "    'unitFloor':0,\n",
    "    'unitsOnTheFloor':0,\n",
    "    'usableAreas':200,\n",
    "    'condo':200,\n",
    "    'iptu':0,\n",
    "    'Apartamento':1,\n",
    "    'Casa':0,\n",
    "    'Outros':0,\n",
    "    'Zona Central':1,\n",
    "    'Zona Norte':0,\n",
    "    'Zona Oeste':0,\n",
    "    'Zona Sul':0,\n",
    "    'label': 0}]\n"
   ]
  },
  {
   "cell_type": "code",
   "execution_count": 111,
   "metadata": {},
   "outputs": [],
   "source": [
    "meu_imovel = spark.createDataFrame(novo_imovel)"
   ]
  },
  {
   "cell_type": "code",
   "execution_count": 112,
   "metadata": {},
   "outputs": [
    {
     "name": "stderr",
     "output_type": "stream",
     "text": [
      "[Stage 2472:>                                                       (0 + 1) / 1]\r"
     ]
    },
    {
     "name": "stdout",
     "output_type": "stream",
     "text": [
      "+-----------+----+------+------------+----------+----------+--------+---------+--------+-----+------+----+-----+-------------+------+---------+---------------+-----------+\n",
      "|Apartamento|Casa|Outros|Zona Central|Zona Norte|Zona Oeste|Zona Sul|bathrooms|bedrooms|condo|floors|iptu|label|parkingSpaces|suites|unitFloor|unitsOnTheFloor|usableAreas|\n",
      "+-----------+----+------+------------+----------+----------+--------+---------+--------+-----+------+----+-----+-------------+------+---------+---------------+-----------+\n",
      "|          1|   0|     0|           1|         0|         0|       0|        3|       2|  200|     1|   0|    0|            1|     2|        0|              0|        200|\n",
      "+-----------+----+------+------------+----------+----------+--------+---------+--------+-----+------+----+-----+-------------+------+---------+---------------+-----------+\n",
      "\n"
     ]
    },
    {
     "name": "stderr",
     "output_type": "stream",
     "text": [
      "                                                                                \r"
     ]
    }
   ],
   "source": [
    "meu_imovel.show()"
   ]
  },
  {
   "cell_type": "code",
   "execution_count": 113,
   "metadata": {},
   "outputs": [],
   "source": [
    "assembler = VectorAssembler(inputCols=X, outputCol='features')"
   ]
  },
  {
   "cell_type": "code",
   "execution_count": 115,
   "metadata": {},
   "outputs": [],
   "source": [
    "meu_imovel_vetorizado = assembler.transform(meu_imovel).select('features', 'label')"
   ]
  },
  {
   "cell_type": "code",
   "execution_count": 116,
   "metadata": {},
   "outputs": [
    {
     "name": "stdout",
     "output_type": "stream",
     "text": [
      "+--------------------+-----+\n",
      "|            features|label|\n",
      "+--------------------+-----+\n",
      "|(17,[0,1,2,3,4,7,...|    0|\n",
      "+--------------------+-----+\n",
      "\n"
     ]
    }
   ],
   "source": [
    "meu_imovel_vetorizado.show()"
   ]
  },
  {
   "cell_type": "code",
   "execution_count": 117,
   "metadata": {},
   "outputs": [
    {
     "name": "stdout",
     "output_type": "stream",
     "text": [
      "+--------------------+-----+-----------------+\n",
      "|            features|label|       prediction|\n",
      "+--------------------+-----+-----------------+\n",
      "|(17,[0,1,2,3,4,7,...|    0|918327.5279373936|\n",
      "+--------------------+-----+-----------------+\n",
      "\n"
     ]
    }
   ],
   "source": [
    "modelo_rfr_cv.transform(meu_imovel_vetorizado).show()"
   ]
  },
  {
   "cell_type": "code",
   "execution_count": null,
   "metadata": {},
   "outputs": [],
   "source": []
  }
 ],
 "metadata": {
  "kernelspec": {
   "display_name": "base",
   "language": "python",
   "name": "python3"
  },
  "language_info": {
   "codemirror_mode": {
    "name": "ipython",
    "version": 3
   },
   "file_extension": ".py",
   "mimetype": "text/x-python",
   "name": "python",
   "nbconvert_exporter": "python",
   "pygments_lexer": "ipython3",
   "version": "3.12.7"
  }
 },
 "nbformat": 4,
 "nbformat_minor": 2
}
